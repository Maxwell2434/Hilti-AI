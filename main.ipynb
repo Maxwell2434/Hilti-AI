{
 "cells": [
  {
   "cell_type": "markdown",
   "metadata": {
    "id": "S8N1ZTVYl06v"
   },
   "source": [
    "## Requirements and setup"
   ]
  },
  {
   "cell_type": "code",
   "execution_count": null,
   "metadata": {
    "id": "IB-1Zkd-l06v"
   },
   "outputs": [],
   "source": [
    "# Perform Google Colab installs (if running in Google Colab)\n",
    "import os\n",
    "\n",
    "if \"COLAB_GPU\" in os.environ:\n",
    "    print(\"[INFO] Running in Google Colab, installing requirements.\")\n",
    "    !pip install -U torch # requires torch 2.1.1+ (for efficient sdpa implementation)\n",
    "    !pip install PyMuPDF # for reading PDFs with Python\n",
    "    !pip install fitz\n",
    "    !pip install tqdm # for progress bars\n",
    "    !pip install sentence-transformers # for embedding models\n",
    "    !pip install accelerate # for quantization model loading\n",
    "    !pip install bitsandbytes # for quantizing models (less storage space)\n",
    "    !pip install flash-attn --no-build-isolation # for faster attention mechanism = faster LLM inference\n",
    "    !pip install langchain-huggingface langchain-chroma langchain_cohere langchain_community.llms langchain_google_genai\n",
    "    !pip install gradio\n",
    "    "
   ]
  },
  {
   "cell_type": "markdown",
   "metadata": {
    "id": "UeBms9dWl06w"
   },
   "source": [
    "## 1. Document/Text Processing and Embedding Creation\n",
    "\n",
    "Ingredients:\n",
    "* PDF document of choice.\n",
    "* Embedding model of choice.\n",
    "\n",
    "Steps:\n",
    "1. Import PDF document.\n",
    "2. Process text for embedding (e.g. split into chunks of sentences).\n",
    "3. Embed text chunks with embedding model.\n",
    "4. Save embeddings to file for later use (embeddings will store on file for many years or until you lose your hard drive)."
   ]
  },
  {
   "cell_type": "markdown",
   "metadata": {
    "id": "3ZzYVFeKl06w"
   },
   "source": [
    "### Import PDF Document\n",
    "\n",
    "This will work with many other kinds of documents.\n",
    "\n",
    "However, we'll start with PDF since many people have PDFs.\n",
    "\n",
    "But just keep in mind, text files, email chains, support documentation, articles and more can also work.\n",
    "\n",
    "There are several libraries to open PDFs with Python but I found that [PyMuPDF](https://github.com/pymupdf/pymupdf) works quite well in many cases."
   ]
  },
  {
   "cell_type": "code",
   "execution_count": null,
   "metadata": {
    "id": "YBGE8j95l06w",
    "outputId": "b04233c3-8a6c-4fe2-9d5c-30285c691354"
   },
   "outputs": [
    {
     "name": "stdout",
     "output_type": "stream",
     "text": [
      "Hiltipdfs\\Hilti Malaysia - Terms and Conditions 2019.pdf\n",
      "Hiltipdfs\\Hilti-Submittal-Package-OSHA-1926.1153.pdf\n",
      "Hiltipdfs\\Hilti_BindingCorporateRules.pdf\n",
      "Hiltipdfs\\Hilti_GB_2020_en_pdf.pdf\n",
      "Hiltipdfs\\Technical-information-ASSET-DOC-LOC-10908813.pdf\n"
     ]
    }
   ],
   "source": [
    "\n",
    "import os\n",
    "\n",
    "choice = \"pdf\"\n",
    "\n",
    "if choice == \"pdf\":\n",
    "    folder_path = 'Hiltipdfs' # replace with the path to your folder\n",
    "    file_paths = [os.path.join(folder_path, f) for f in os.listdir(folder_path) if f.endswith('.pdf')]\n",
    "\n",
    "    for file_path in file_paths:\n",
    "        print(file_path)\n",
    "elif choice == \"slides\":\n",
    "    folder_path = 'Slides' # replace with the path to your folder\n",
    "    file_paths = [os.path.join(folder_path, f) for f in os.listdir(folder_path) if f.endswith('.pptx')]\n",
    "\n",
    "    for file_path in file_paths:\n",
    "        print(file_path)"
   ]
  },
  {
   "cell_type": "markdown",
   "metadata": {
    "id": "7pBQjhIgl06x"
   },
   "source": [
    "PDF acquired!\n",
    "\n",
    "We can import the pages of our PDF to text by first defining the PDF path and then opening and reading it with PyMuPDF (`import fitz`).\n",
    "\n",
    "We'll write a small helper function to preprocess the text as it gets read. Note that not all text will be read in the same so keep this in mind for when you prepare your text.\n",
    "\n",
    "We'll save each page to a dictionary and then append that dictionary to a list for ease of use later."
   ]
  },
  {
   "cell_type": "code",
   "execution_count": 9,
   "metadata": {
    "colab": {
     "referenced_widgets": [
      "357da8cd990d4ec494ca9bb7110a0b47"
     ]
    },
    "id": "4scku8g1l06x",
    "outputId": "b02a2752-cd4b-47cc-caa9-9c1030ecf34a"
   },
   "outputs": [
    {
     "data": {
      "application/vnd.jupyter.widget-view+json": {
       "model_id": "941e30c01edc458c8e5ef48012a05a8d",
       "version_major": 2,
       "version_minor": 0
      },
      "text/plain": [
       "0it [00:00, ?it/s]"
      ]
     },
     "metadata": {},
     "output_type": "display_data"
    },
    {
     "data": {
      "application/vnd.jupyter.widget-view+json": {
       "model_id": "54afb6d42df44f7e94804a6f90c0aee3",
       "version_major": 2,
       "version_minor": 0
      },
      "text/plain": [
       "0it [00:00, ?it/s]"
      ]
     },
     "metadata": {},
     "output_type": "display_data"
    },
    {
     "data": {
      "application/vnd.jupyter.widget-view+json": {
       "model_id": "6d3398551e6846188e6353f2b1f4368d",
       "version_major": 2,
       "version_minor": 0
      },
      "text/plain": [
       "0it [00:00, ?it/s]"
      ]
     },
     "metadata": {},
     "output_type": "display_data"
    },
    {
     "data": {
      "application/vnd.jupyter.widget-view+json": {
       "model_id": "5de1ebd616124619901576ebf307f628",
       "version_major": 2,
       "version_minor": 0
      },
      "text/plain": [
       "0it [00:00, ?it/s]"
      ]
     },
     "metadata": {},
     "output_type": "display_data"
    },
    {
     "data": {
      "application/vnd.jupyter.widget-view+json": {
       "model_id": "613814167b5343398f11738712f7b863",
       "version_major": 2,
       "version_minor": 0
      },
      "text/plain": [
       "0it [00:00, ?it/s]"
      ]
     },
     "metadata": {},
     "output_type": "display_data"
    },
    {
     "data": {
      "text/plain": [
       "[{'page_number': 1,\n",
       "  'pdf_name': 'Hilti Malaysia - Terms and Conditions 2019.pdf',\n",
       "  'page_char_count': 2282,\n",
       "  'page_word_count': 451,\n",
       "  'page_sentence_count_raw': 11,\n",
       "  'page_token_count': 570.5,\n",
       "  'text': 'Hilti Malaysia Sdn. Bhd. (157721-A)  F-5-A | Sime Darby Brunsfield Tower  No. 2 | Jalan PJU 1A/7A  Oasis Square I Oasis Damansara  47301 Petaling Jaya I Selangor I Malaysia  Toll Free 1800 880 985 | F +603 7848 7399 | www.hilti.com.my  HILTI (MALAYSIA) SDN. BHD.  TERMS AND CONDITIONS      1.   GENERAL    1.1   In these conditions the following words have the meanings shown:     \"Buyer\"   means the person, firm or company purchasing Goods       \"Company\" means Hilti (Malaysia) Sdn Bhd or one of its associated or subsidiary  companies as the case may be       \"Contract\"  means the agreement between the Company and the Buyer for the  purchase of Goods from the Company by the Buyer        \"Contracts\" includes all agreements between the Company and the Buyer for the  purchase of Goods from the Company by the Buyer        \"Goods\"  means the goods and services supplied by the Company and  purchased by the Buyer on the terms of the Contract     “Saleable means those unused items in original packaging, Condition” defect-free  and in unbroken quantities    1.2   Unless agreed otherwise, these conditions shall be incorporated in all Contracts of  the Company to sell Goods and shall be the entire conditions under which the sale  takes place. All other terms, conditions or other representations are excluded from  the Contracts between the Buyer and the Company including any terms and  conditions which the Buyer may purport to apply under any order for Goods.    1.3   These conditions shall prevail unless expressly varied in writing and signed by a  Director on behalf of the Company.    1.4   No statement, description, information, warranty, condition or recommendation  contained in any catalogue, price list, advertisement or communication or made  verbally by any of the agents or employees of the Company shall be construed to  vary in any way any of the conditions under this Contract unless otherwise agreed in  accordance with Clause 1.3 above.    1.5   Any written quotation, estimate and/or advertised price for the Goods shall be an  invitation to treat and no binding contract shall be created by placing an order on the  Company’s website or otherwise until the Company has acknowledged the order to  the Buyer either verbally or in writing as appropriate.'},\n",
       " {'page_number': 2,\n",
       "  'pdf_name': 'Hilti Malaysia - Terms and Conditions 2019.pdf',\n",
       "  'page_char_count': 2776,\n",
       "  'page_word_count': 562,\n",
       "  'page_sentence_count_raw': 18,\n",
       "  'page_token_count': 694.0,\n",
       "  'text': \"Hilti Malaysia Sdn. Bhd. (157721-A)  F-5-A | Sime Darby Brunsfield Tower  No. 2 | Jalan PJU 1A/7A  Oasis Square I Oasis Damansara  47301 Petaling Jaya I Selangor I Malaysia  Toll Free 1800 880 985 | F +603 7848 7399 | www.hilti.com.my  2.   PRICE    2.1   Subject to Clause 2.2 below, the price payable for Goods shall, unless otherwise  stated by the Company in writing and agreed on its behalf, be the price list of the  Company current at the date of dispatch and in the case of an order for delivery by  installments the price payable for each installment shall be the Company's current  price list at the date of the dispatch of each installment.    2.2   Unless otherwise agreed, the Company's prices may be subject to variation to take  account of variations in wages, materials or other costs since the date of the  Company's quotation (or if no quotation is issued) the Buyer's order. The Company  accordingly reserves the right to adjust on reasonable basis (reasonable objection by  the Buyer not unreasonable withheld) the invoice price payable by the amount of any  increase or decrease in such costs after the price is quoted via notice in writing to the  Buyer and the invoice so adjusted shall be payable as if it were the original Contract  price.    2.3   All prices are exclusive of Goods and Services Tax. The Buyer shall be liable for all  and any local taxes or charges as appropriate.    2.4   The Buyer agrees that section 39(3) of the Sale of Goods Act 1957 (Act 32) (“the  Act”) shall not apply to Goods sent by the Company.    2.5   The Company shall be entitled to invoice the Buyer by post, facsimile or email for the  price of the Goods in Ringgit Malaysia or such other currency as the Company shall  agree in writing.    2.6   The Company has the right to invoice the Buyer for the cost of any packaging,  transportation of the Goods or any additional costs resulting from any other alteration  made by the Buyer on or at the time of delivery or upon notification by the Company  that the Goods are awaiting collection. Any such additional costs may be invoiced by  the Company in Ringgit Malaysia or such other currency as the Company shall agree  in writing.      3.   FUEL SURCHARGE/ CARRIAGE AND INSURANCE    3.1   The cost of fuel surcharge to the Buyer's premises in Malaysia shall be in accordance  with the charges pre-agreed between the Buyer and the Company.    3.2   The cost of carriage and insurance of the Goods to the Buyer’s premises in Malaysia  shall be in accordance with the charges laid out in the Company’s current price list.    3.3   In all other cases the price of the Goods shall be exclusive of carriage and insurance  to the Buyer's premises.    3.4   Export orders shall be charged Free On Board (port of Malaysia).\"},\n",
       " {'page_number': 3,\n",
       "  'pdf_name': 'Hilti Malaysia - Terms and Conditions 2019.pdf',\n",
       "  'page_char_count': 2728,\n",
       "  'page_word_count': 558,\n",
       "  'page_sentence_count_raw': 16,\n",
       "  'page_token_count': 682.0,\n",
       "  'text': \"Hilti Malaysia Sdn. Bhd. (157721-A)  F-5-A | Sime Darby Brunsfield Tower  No. 2 | Jalan PJU 1A/7A  Oasis Square I Oasis Damansara  47301 Petaling Jaya I Selangor I Malaysia  Toll Free 1800 880 985 | F +603 7848 7399 | www.hilti.com.my  4.   ADDITIONAL COSTS      The Buyer agrees to pay for any loss or extra costs above the quoted price for the  Goods which are directly or indirectly incurred by the Company through the Buyer's  instructions or lack of instruction or through failure or delay in taking delivery or  through any act or default on the part of the Buyer, its servants or agents.      5.   TERMS OF PAYMENT    5.1   All payments due under any Contract are due and payable within thirty (30) days from  the date of the invoice issued to the Buyer.  The Buyer shall not be entitled to exercise  any set off, lien or any other similar right or claim.    5.2   If the Goods are delivered in installments, the Company shall be entitled to invoice  each installment as and when delivery thereof has been made and payment shall be  due in accordance with Clause 5.1 above in respect of each invoice.    5.3   Any failure by the Buyer to either pay any due installment in accordance with this  Contract or failure to give delivery instructions in respect of any Goods shall cause  the whole of the price for Goods already manufactured at the time of such a default,  to become due forthwith without any notice    5.4   Prompt payment shall be a condition precedent to future deliveries of the Goods due  under any Contract.    5.5   Without prejudice to any other rights it may have, the Company is entitled to charge  and to be paid interest at 2% per month above the then current base rate of HSBC  Bank Malaysia Berhad on any overdue payment of the price of the Goods or the price  of any installments thereof.      6.   DELIVERY    6.1   The period for delivery shall be the period within which the Goods are intended to be  despatched from the Company's premises and shall be calculated from the date of  the receipt by the Company of the Buyer's order or the date of receipt of all necessary  information to enable the Company to manufacture or procure the manufacture of the  Goods whichever shall be the later and the Buyer shall take delivery of the Goods  within such period. If no period is stipulated by the Company, then delivery will be  such time after receipt of instructions as the Company thinks reasonable.    6.2   All times or dates given for delivery of the Goods are given in good faith but without  any responsibility on the part of the Company. Time of delivery shall not be of the  essence of any Contract nor shall the Company be under any liability for any delay  beyond the Company's control.\"}]"
      ]
     },
     "execution_count": 9,
     "metadata": {},
     "output_type": "execute_result"
    }
   ],
   "source": [
    "# Requires !pip install PyMuPDF, see: https://github.com/pymupdf/pymupdf\n",
    "import fitz # (pymupdf, found this is better than pypdf for our use case, note: licence is AGPL-3.0, keep that in mind if you want to use any code commercially)\n",
    "from tqdm.auto import tqdm # for progress bars, requires !pip install tqdm\n",
    "\n",
    "def text_formatter(text: str) -> str:\n",
    "    \"\"\"Performs minor formatting on text.\"\"\"\n",
    "    cleaned_text = text.replace(\"\\n\", \" \").strip() # note: this might be different for each doc (best to experiment)\n",
    "\n",
    "    # Other potential text formatting functions can go here\n",
    "    return cleaned_text\n",
    "\n",
    "# Open PDF and get lines/pages\n",
    "# Note: this only focuses on text, rather than images/figures etc\n",
    "def open_and_read_pdf(file_path: str) -> list[dict]:\n",
    "    \"\"\"\n",
    "    Opens a PDF file, reads its text content page by page, and collects statistics.\n",
    "\n",
    "    Parameters:\n",
    "        file_path (str): The file path to the PDF document to be opened and read.\n",
    "\n",
    "    Returns:\n",
    "        list[dict]: A list of dictionaries, each containing the page number\n",
    "        (adjusted), character count, word count, sentence count, token count, and the extracted text\n",
    "        for each page.\n",
    "    \"\"\"\n",
    "    doc = fitz.open(file_path)  # open a document\n",
    "    pdf_name = os.path.basename(file_path)\n",
    "    pages_and_texts = []\n",
    "    for page_number, page in tqdm(enumerate(doc)):  # iterate the document pages\n",
    "        text = page.get_text()  # get plain text encoded as UTF-8\n",
    "        text = text_formatter(text)\n",
    "        if not text.strip():  # Skip if text is empty or just whitespace\n",
    "            continue\n",
    "        pages_and_texts.append({\"page_number\": page_number + 1, \n",
    "                                \"pdf_name\": pdf_name,\n",
    "                                \"page_char_count\": len(text),\n",
    "                                \"page_word_count\": len(text.split(\" \")),\n",
    "                                \"page_sentence_count_raw\": len(text.split(\". \")),\n",
    "                                \"page_token_count\": len(text) / 4,  # 1 token = ~4 chars, see: https://help.openai.com/en/articles/4936856-what-are-tokens-and-how-to-count-them\n",
    "                                \"text\": text})\n",
    "    return pages_and_texts\n",
    "\n",
    "\n",
    "pages_and_texts = []\n",
    "for file_path in file_paths:\n",
    "    pages_and_texts.extend(open_and_read_pdf(file_path=file_path))\n",
    "pages_and_texts[:3]"
   ]
  },
  {
   "cell_type": "markdown",
   "metadata": {
    "id": "Lts3_uJ3l06x"
   },
   "source": [
    "Now let's get a random sample of the pages."
   ]
  },
  {
   "cell_type": "code",
   "execution_count": 10,
   "metadata": {
    "id": "OtKr1pQul06x",
    "outputId": "9002ee73-521b-4425-d929-bc294858bc2a"
   },
   "outputs": [
    {
     "data": {
      "text/plain": [
       "[{'page_number': 29,\n",
       "  'pdf_name': 'Hilti_GB_2020_en_pdf.pdf',\n",
       "  'page_char_count': 1335,\n",
       "  'page_word_count': 243,\n",
       "  'page_sentence_count_raw': 7,\n",
       "  'page_token_count': 333.75,\n",
       "  'text': 'employees worldwide (2019: 30,006) nationalities  in the global team (2019: 127) nationalities  at headquarters (2019: 63) of team members  worldwide are women (2019: 25%) of team leaders  worldwide are women (2019: 21%) 29,549 63 25.5% 21.5%  After Lindsay Ophus started her career as a process manager at Hilti in  the USA in 2015, it was soon clear she was on the path to a long career  with the company. “My goal is to create added value for the company with my  team.” Hilti’s approach is to match people with roles they enjoy and are suited  for, both laterally and upward. The result is a resilient, high-performing global  team. Team members are encouraged to talk frequently with their leaders  about their development, whether it be for their current role or one in the future.  Lindsay was set to become an area sales manager, but one discussion helped  her consider another path. “My mentor asked me to list qualities of a good  manager, and one of the points was financial acumen, which I already had  through my studies. I realized I could take a financial analyst role to capitalize  on this strength, instead of following a the usual path to sales management,  to broaden that skill set and continue my development at the same time.” STRENGTH-BASED DEVELOPMENT  HAPPENS IN THE MOMENT 145 2020 Hilti Company Report 52–53'},\n",
       " {'page_number': 14,\n",
       "  'pdf_name': 'Hilti_GB_2020_en_pdf.pdf',\n",
       "  'page_char_count': 912,\n",
       "  'page_word_count': 149,\n",
       "  'page_sentence_count_raw': 8,\n",
       "  'page_token_count': 228.0,\n",
       "  'text': 'Waiting for concrete to cure and harden is a  very time-consuming process. Monitoring  the strength and readiness of the material can involve  cumbersome laboratory equipment and delays with job  site scheduling. With a new sensing system Hilti now  helps contractors better understand how their concrete  is curing and how to plan around it. This small, wireless  sensor can be embedded in concrete to collect real-time  curing data. Information about estimated strength,  temperature and relative humidity is transmitted to the  smartphone app. Boston, USA-based Concrete Sensors  developed the system and joined Hilti through a recent  acquisition in spring of 2020. This extends Hilti’s “Inter- net of Things (IoT)” digital portfolio into new applications  and offers another option for customers to increase  productivity and minimize downtime.  INTELLIGENCE SET  IN CONCRETE 2020 Hilti Company Report 22–23'},\n",
       " {'page_number': 44,\n",
       "  'pdf_name': 'Hilti_GB_2020_en_pdf.pdf',\n",
       "  'page_char_count': 1706,\n",
       "  'page_word_count': 249,\n",
       "  'page_sentence_count_raw': 9,\n",
       "  'page_token_count': 426.5,\n",
       "  'text': 'PUBLICATION DETAILS Publisher Hilti Corporation Global Corporate Communications PO Box 333, 9494 Schaan, Liechtenstein Responsibility Oliver Müller-Kengelbach Concept Hilti Global Brand & Communications Editorial team, text Sabrina Feliu (Lead), Nadine Bernhardt,   Matthias Hassler, Svenja Krauss, Chris Larson,   Dan Phillips, Felix Reichstein,   Holger Thissen (Konstanz, Germany)  Design Benno Erhardt, Manfred Simon, zurgams Kommunikationsagentur (Dornbirn, Austria) Photography Emma Bilz, Reinhard and Luca Fasching (Bregenz, Austria),  Uli Reitz, Hilti Group Translation Chris Larson Image processing pro.file Armin Kofler (Lustenau, Austria) Production coordinator Lise Santschi Printed by BVD Druck+Verlag AG 9494 Schaan, Liechtenstein We wish to thank our customers and partners for their kind support. The Company Report is published in German and English. Duplication, even in part,   only with permission of the publisher. The complete Financial Report, the principles of corporate governance,   the Group organizational chart, a list of consolidated companies and information on   the Martin Hilti Family Trust can be found on the Internet at www.hilti.group. The 2020 Hilti Company Report  is available online at: www.hilti-companyreport.com Printed on FSC-recycled certified paper. By using FSC paper, we actively support  the environmentally friendly management of our forests as well as the social  advancement of the forest-managing population. The paper is certified with the “Blue Angel” eco-label in accordance with ISO 14024. This report is produced CO2-neutrally in a company with a holistic climate strategy  with the highest gold certificate. 82–83 02–03 2020 Hilti Company Report'}]"
      ]
     },
     "execution_count": 10,
     "metadata": {},
     "output_type": "execute_result"
    }
   ],
   "source": [
    "import random\n",
    "\n",
    "random.sample(pages_and_texts, k=3)"
   ]
  },
  {
   "cell_type": "markdown",
   "metadata": {
    "id": "BBF_nevfl06y"
   },
   "source": [
    "### Get some stats on the text\n",
    "\n",
    "Let's perform a rough exploratory data analysis (EDA) to get an idea of the size of the texts (e.g. character counts, word counts etc) we're working with.\n",
    "\n",
    "The different sizes of texts will be a good indicator into how we should split our texts.\n"
   ]
  },
  {
   "cell_type": "code",
   "execution_count": 11,
   "metadata": {
    "id": "FHlCczGEl06y",
    "outputId": "53ed0141-ee5b-4f06-a494-264d291d3e82"
   },
   "outputs": [
    {
     "data": {
      "application/vnd.microsoft.datawrangler.viewer.v0+json": {
       "columns": [
        {
         "name": "index",
         "rawType": "int64",
         "type": "integer"
        },
        {
         "name": "page_number",
         "rawType": "int64",
         "type": "integer"
        },
        {
         "name": "pdf_name",
         "rawType": "object",
         "type": "string"
        },
        {
         "name": "page_char_count",
         "rawType": "int64",
         "type": "integer"
        },
        {
         "name": "page_word_count",
         "rawType": "int64",
         "type": "integer"
        },
        {
         "name": "page_sentence_count_raw",
         "rawType": "int64",
         "type": "integer"
        },
        {
         "name": "page_token_count",
         "rawType": "float64",
         "type": "float"
        },
        {
         "name": "text",
         "rawType": "object",
         "type": "string"
        }
       ],
       "conversionMethod": "pd.DataFrame",
       "ref": "d637a90b-44f5-49b2-bfd3-eafca48f5d55",
       "rows": [
        [
         "0",
         "1",
         "Hilti Malaysia - Terms and Conditions 2019.pdf",
         "2282",
         "451",
         "11",
         "570.5",
         "Hilti Malaysia Sdn. Bhd. (157721-A)  F-5-A | Sime Darby Brunsfield Tower  No. 2 | Jalan PJU 1A/7A  Oasis Square I Oasis Damansara  47301 Petaling Jaya I Selangor I Malaysia  Toll Free 1800 880 985 | F +603 7848 7399 | www.hilti.com.my  HILTI (MALAYSIA) SDN. BHD.  TERMS AND CONDITIONS      1.   GENERAL    1.1   In these conditions the following words have the meanings shown:     \"Buyer\"   means the person, firm or company purchasing Goods       \"Company\" means Hilti (Malaysia) Sdn Bhd or one of its associated or subsidiary  companies as the case may be       \"Contract\"  means the agreement between the Company and the Buyer for the  purchase of Goods from the Company by the Buyer        \"Contracts\" includes all agreements between the Company and the Buyer for the  purchase of Goods from the Company by the Buyer        \"Goods\"  means the goods and services supplied by the Company and  purchased by the Buyer on the terms of the Contract     “Saleable means those unused items in original packaging, Condition” defect-free  and in unbroken quantities    1.2   Unless agreed otherwise, these conditions shall be incorporated in all Contracts of  the Company to sell Goods and shall be the entire conditions under which the sale  takes place. All other terms, conditions or other representations are excluded from  the Contracts between the Buyer and the Company including any terms and  conditions which the Buyer may purport to apply under any order for Goods.    1.3   These conditions shall prevail unless expressly varied in writing and signed by a  Director on behalf of the Company.    1.4   No statement, description, information, warranty, condition or recommendation  contained in any catalogue, price list, advertisement or communication or made  verbally by any of the agents or employees of the Company shall be construed to  vary in any way any of the conditions under this Contract unless otherwise agreed in  accordance with Clause 1.3 above.    1.5   Any written quotation, estimate and/or advertised price for the Goods shall be an  invitation to treat and no binding contract shall be created by placing an order on the  Company’s website or otherwise until the Company has acknowledged the order to  the Buyer either verbally or in writing as appropriate."
        ],
        [
         "1",
         "2",
         "Hilti Malaysia - Terms and Conditions 2019.pdf",
         "2776",
         "562",
         "18",
         "694.0",
         "Hilti Malaysia Sdn. Bhd. (157721-A)  F-5-A | Sime Darby Brunsfield Tower  No. 2 | Jalan PJU 1A/7A  Oasis Square I Oasis Damansara  47301 Petaling Jaya I Selangor I Malaysia  Toll Free 1800 880 985 | F +603 7848 7399 | www.hilti.com.my  2.   PRICE    2.1   Subject to Clause 2.2 below, the price payable for Goods shall, unless otherwise  stated by the Company in writing and agreed on its behalf, be the price list of the  Company current at the date of dispatch and in the case of an order for delivery by  installments the price payable for each installment shall be the Company's current  price list at the date of the dispatch of each installment.    2.2   Unless otherwise agreed, the Company's prices may be subject to variation to take  account of variations in wages, materials or other costs since the date of the  Company's quotation (or if no quotation is issued) the Buyer's order. The Company  accordingly reserves the right to adjust on reasonable basis (reasonable objection by  the Buyer not unreasonable withheld) the invoice price payable by the amount of any  increase or decrease in such costs after the price is quoted via notice in writing to the  Buyer and the invoice so adjusted shall be payable as if it were the original Contract  price.    2.3   All prices are exclusive of Goods and Services Tax. The Buyer shall be liable for all  and any local taxes or charges as appropriate.    2.4   The Buyer agrees that section 39(3) of the Sale of Goods Act 1957 (Act 32) (“the  Act”) shall not apply to Goods sent by the Company.    2.5   The Company shall be entitled to invoice the Buyer by post, facsimile or email for the  price of the Goods in Ringgit Malaysia or such other currency as the Company shall  agree in writing.    2.6   The Company has the right to invoice the Buyer for the cost of any packaging,  transportation of the Goods or any additional costs resulting from any other alteration  made by the Buyer on or at the time of delivery or upon notification by the Company  that the Goods are awaiting collection. Any such additional costs may be invoiced by  the Company in Ringgit Malaysia or such other currency as the Company shall agree  in writing.      3.   FUEL SURCHARGE/ CARRIAGE AND INSURANCE    3.1   The cost of fuel surcharge to the Buyer's premises in Malaysia shall be in accordance  with the charges pre-agreed between the Buyer and the Company.    3.2   The cost of carriage and insurance of the Goods to the Buyer’s premises in Malaysia  shall be in accordance with the charges laid out in the Company’s current price list.    3.3   In all other cases the price of the Goods shall be exclusive of carriage and insurance  to the Buyer's premises.    3.4   Export orders shall be charged Free On Board (port of Malaysia)."
        ],
        [
         "2",
         "3",
         "Hilti Malaysia - Terms and Conditions 2019.pdf",
         "2728",
         "558",
         "16",
         "682.0",
         "Hilti Malaysia Sdn. Bhd. (157721-A)  F-5-A | Sime Darby Brunsfield Tower  No. 2 | Jalan PJU 1A/7A  Oasis Square I Oasis Damansara  47301 Petaling Jaya I Selangor I Malaysia  Toll Free 1800 880 985 | F +603 7848 7399 | www.hilti.com.my  4.   ADDITIONAL COSTS      The Buyer agrees to pay for any loss or extra costs above the quoted price for the  Goods which are directly or indirectly incurred by the Company through the Buyer's  instructions or lack of instruction or through failure or delay in taking delivery or  through any act or default on the part of the Buyer, its servants or agents.      5.   TERMS OF PAYMENT    5.1   All payments due under any Contract are due and payable within thirty (30) days from  the date of the invoice issued to the Buyer.  The Buyer shall not be entitled to exercise  any set off, lien or any other similar right or claim.    5.2   If the Goods are delivered in installments, the Company shall be entitled to invoice  each installment as and when delivery thereof has been made and payment shall be  due in accordance with Clause 5.1 above in respect of each invoice.    5.3   Any failure by the Buyer to either pay any due installment in accordance with this  Contract or failure to give delivery instructions in respect of any Goods shall cause  the whole of the price for Goods already manufactured at the time of such a default,  to become due forthwith without any notice    5.4   Prompt payment shall be a condition precedent to future deliveries of the Goods due  under any Contract.    5.5   Without prejudice to any other rights it may have, the Company is entitled to charge  and to be paid interest at 2% per month above the then current base rate of HSBC  Bank Malaysia Berhad on any overdue payment of the price of the Goods or the price  of any installments thereof.      6.   DELIVERY    6.1   The period for delivery shall be the period within which the Goods are intended to be  despatched from the Company's premises and shall be calculated from the date of  the receipt by the Company of the Buyer's order or the date of receipt of all necessary  information to enable the Company to manufacture or procure the manufacture of the  Goods whichever shall be the later and the Buyer shall take delivery of the Goods  within such period. If no period is stipulated by the Company, then delivery will be  such time after receipt of instructions as the Company thinks reasonable.    6.2   All times or dates given for delivery of the Goods are given in good faith but without  any responsibility on the part of the Company. Time of delivery shall not be of the  essence of any Contract nor shall the Company be under any liability for any delay  beyond the Company's control."
        ],
        [
         "3",
         "4",
         "Hilti Malaysia - Terms and Conditions 2019.pdf",
         "2867",
         "595",
         "14",
         "716.75",
         "Hilti Malaysia Sdn. Bhd. (157721-A)  F-5-A | Sime Darby Brunsfield Tower  No. 2 | Jalan PJU 1A/7A  Oasis Square I Oasis Damansara  47301 Petaling Jaya I Selangor I Malaysia  Toll Free 1800 880 985 | F +603 7848 7399 | www.hilti.com.my  6.3   Where the Goods are handed to a carrier for carriage to the Buyer or the Malaysia  port for export, any such carrier shall be deemed to be an agent of the Company and  not of the Buyer for the purpose of sections 50, 51 and 52 of the Act.    6.4   No liability for non-delivery, loss or damage to the Goods occurring post delivery or  for any claim that the Goods are not in accordance with the Contract will attach to the  Company, unless claims to that effect are notified in writing by the Buyer to the  Company (and in the case of claims for non-delivery, loss or damage with a copy to  the carrier if the Company's own vehicles have not been used to deliver the Goods):    6.4.1   within 1 day of delivery in the case of partial loss or damage of Goods in transit or  delivery;    6.4.2   within 1 day of delivery of the Goods in the case of defective Goods; or    6.4.3   within 1 day of delivery for any other non-compliance with the Contract.    6.5   If the Buyer fails to give notice in accordance with Clause 6.4 above, the Goods shall  be deemed to be in all respects in accordance with the Contract and the Buyer shall  be deemed to have accepted the Goods and shall be bound to pay for the same  accordingly.    6.6   All requests for proof of delivery must be made within a period of 21 days following  the date of the invoice.    6.7   The Buyer agrees that in the event of a valid claim for non-delivery, loss or damage  to the Goods and/or non-compliance with the Contract, the Company may at its sole  discretion either reprocess or replace the Goods at its own expense but shall then be  under no further liability in connection with such non-delivery, loss, damage or non- compliance.    6.8   If for any reason the Buyer is unable to accept delivery of the Goods at the time when  the Goods have been notified as ready for delivery, the Company may at its sole  discretion store the Goods at the risk of the Buyer and take all reasonable steps to  safeguard and insure them at the cost of the Buyer, provided that the Buyer shall be  immediately informed thereof.    6.9   The Company shall have the right to make delivery by installments of such quantities  of the Goods and at such intervals as it may decide. Any defect in any installment  shall not be a ground for cancellation of the remainder of the installments and the  Buyer shall be bound to accept further deliveries thereof.      7.   RETURNS AND CANCELLATIONS    7.1   The Company must be notified of all returns within 2 weeks from delivery and subject  to 10% restocking fees. Products must be in saleable condition to qualify for return."
        ],
        [
         "4",
         "5",
         "Hilti Malaysia - Terms and Conditions 2019.pdf",
         "2938",
         "572",
         "16",
         "734.5",
         "Hilti Malaysia Sdn. Bhd. (157721-A)  F-5-A | Sime Darby Brunsfield Tower  No. 2 | Jalan PJU 1A/7A  Oasis Square I Oasis Damansara  47301 Petaling Jaya I Selangor I Malaysia  Toll Free 1800 880 985 | F +603 7848 7399 | www.hilti.com.my  Saleable condition is defined as those unused items in original packaging, defect- free and in unbroken quantities. All returns are subject to Hilti inspection and  acceptance. Request for return after 2 weeks of delivery will not be accepted. Non- stocking, non-standard items and discontinued items are not eligible for return credit.    7.2   The following products are not eligible for return,  a)  All Chemical products  b)  Products specially purchased / ordered for customer  c)  Products sold under promotion or selloff      8.   PASSING OF TITLE AND RISK    8.1   From the date of delivery to the Buyer the Goods shall be at the risk of the Buyer who  shall be solely responsible for their custody and maintenance, but unless otherwise  expressly agreed in writing, the Goods shall remain the property of the Company until  all payments due to the Company from the Buyer under the Contract or any other  contract have been made in full unconditionally and credited to the Company’s  account. Whilst the ownership of the Company continues the Buyer shall keep the  Goods separate and identifiable from all other goods in its possession as fiduciary  agent and bailee for the Company.    8.2   In the event of any resale by the Buyer of the Goods the beneficial entitlement of the  Company shall attach to the proceeds of the sale or other disposition thereof, so that  such proceeds or any claim thereof shall be assigned to the Company.    8.3   In the event of failure to pay the price in accordance with the Contract, the Company  shall have the power to re-sell the Goods, such power being additional to (and not in  substitution for) any other power of sale arising by operation of law or implication or  otherwise and for such purpose the Company and its servants and agents may  forthwith enter upon any premises or land occupied or owned by the Buyer to remove  the Goods.    8.4   Pending payment of the full purchase price of the Goods, the Buyer shall at all times  keep the Goods comprehensively insured against loss or damage by accident, fire,  theft and other risks usually covered by insurance in the type of business for which  the Goods are for the time being used in an amount at least equal to the balance of  the price for the same time to time remaining outstanding. The policy shall bear an  endorsement recording the Company’s interest and shall be produced to the  Company on request.      9.   REPAIR POLICY    9.1   The Hilti Lifetime Service means that the tool will be free from defects caused by  manufacture for a period of twelve (12) months from the date the invoice is issued  by Hilti, depending on the tool model, Provided That the tool is operated, handled,"
        ]
       ],
       "shape": {
        "columns": 7,
        "rows": 5
       }
      },
      "text/html": [
       "<div>\n",
       "<style scoped>\n",
       "    .dataframe tbody tr th:only-of-type {\n",
       "        vertical-align: middle;\n",
       "    }\n",
       "\n",
       "    .dataframe tbody tr th {\n",
       "        vertical-align: top;\n",
       "    }\n",
       "\n",
       "    .dataframe thead th {\n",
       "        text-align: right;\n",
       "    }\n",
       "</style>\n",
       "<table border=\"1\" class=\"dataframe\">\n",
       "  <thead>\n",
       "    <tr style=\"text-align: right;\">\n",
       "      <th></th>\n",
       "      <th>page_number</th>\n",
       "      <th>pdf_name</th>\n",
       "      <th>page_char_count</th>\n",
       "      <th>page_word_count</th>\n",
       "      <th>page_sentence_count_raw</th>\n",
       "      <th>page_token_count</th>\n",
       "      <th>text</th>\n",
       "    </tr>\n",
       "  </thead>\n",
       "  <tbody>\n",
       "    <tr>\n",
       "      <th>0</th>\n",
       "      <td>1</td>\n",
       "      <td>Hilti Malaysia - Terms and Conditions 2019.pdf</td>\n",
       "      <td>2282</td>\n",
       "      <td>451</td>\n",
       "      <td>11</td>\n",
       "      <td>570.50</td>\n",
       "      <td>Hilti Malaysia Sdn. Bhd. (157721-A)  F-5-A | S...</td>\n",
       "    </tr>\n",
       "    <tr>\n",
       "      <th>1</th>\n",
       "      <td>2</td>\n",
       "      <td>Hilti Malaysia - Terms and Conditions 2019.pdf</td>\n",
       "      <td>2776</td>\n",
       "      <td>562</td>\n",
       "      <td>18</td>\n",
       "      <td>694.00</td>\n",
       "      <td>Hilti Malaysia Sdn. Bhd. (157721-A)  F-5-A | S...</td>\n",
       "    </tr>\n",
       "    <tr>\n",
       "      <th>2</th>\n",
       "      <td>3</td>\n",
       "      <td>Hilti Malaysia - Terms and Conditions 2019.pdf</td>\n",
       "      <td>2728</td>\n",
       "      <td>558</td>\n",
       "      <td>16</td>\n",
       "      <td>682.00</td>\n",
       "      <td>Hilti Malaysia Sdn. Bhd. (157721-A)  F-5-A | S...</td>\n",
       "    </tr>\n",
       "    <tr>\n",
       "      <th>3</th>\n",
       "      <td>4</td>\n",
       "      <td>Hilti Malaysia - Terms and Conditions 2019.pdf</td>\n",
       "      <td>2867</td>\n",
       "      <td>595</td>\n",
       "      <td>14</td>\n",
       "      <td>716.75</td>\n",
       "      <td>Hilti Malaysia Sdn. Bhd. (157721-A)  F-5-A | S...</td>\n",
       "    </tr>\n",
       "    <tr>\n",
       "      <th>4</th>\n",
       "      <td>5</td>\n",
       "      <td>Hilti Malaysia - Terms and Conditions 2019.pdf</td>\n",
       "      <td>2938</td>\n",
       "      <td>572</td>\n",
       "      <td>16</td>\n",
       "      <td>734.50</td>\n",
       "      <td>Hilti Malaysia Sdn. Bhd. (157721-A)  F-5-A | S...</td>\n",
       "    </tr>\n",
       "  </tbody>\n",
       "</table>\n",
       "</div>"
      ],
      "text/plain": [
       "   page_number                                        pdf_name  \\\n",
       "0            1  Hilti Malaysia - Terms and Conditions 2019.pdf   \n",
       "1            2  Hilti Malaysia - Terms and Conditions 2019.pdf   \n",
       "2            3  Hilti Malaysia - Terms and Conditions 2019.pdf   \n",
       "3            4  Hilti Malaysia - Terms and Conditions 2019.pdf   \n",
       "4            5  Hilti Malaysia - Terms and Conditions 2019.pdf   \n",
       "\n",
       "   page_char_count  page_word_count  page_sentence_count_raw  \\\n",
       "0             2282              451                       11   \n",
       "1             2776              562                       18   \n",
       "2             2728              558                       16   \n",
       "3             2867              595                       14   \n",
       "4             2938              572                       16   \n",
       "\n",
       "   page_token_count                                               text  \n",
       "0            570.50  Hilti Malaysia Sdn. Bhd. (157721-A)  F-5-A | S...  \n",
       "1            694.00  Hilti Malaysia Sdn. Bhd. (157721-A)  F-5-A | S...  \n",
       "2            682.00  Hilti Malaysia Sdn. Bhd. (157721-A)  F-5-A | S...  \n",
       "3            716.75  Hilti Malaysia Sdn. Bhd. (157721-A)  F-5-A | S...  \n",
       "4            734.50  Hilti Malaysia Sdn. Bhd. (157721-A)  F-5-A | S...  "
      ]
     },
     "execution_count": 11,
     "metadata": {},
     "output_type": "execute_result"
    }
   ],
   "source": [
    "import pandas as pd\n",
    "\n",
    "df = pd.DataFrame(pages_and_texts)\n",
    "df.head()"
   ]
  },
  {
   "cell_type": "code",
   "execution_count": 12,
   "metadata": {
    "id": "E309vNgjl06y",
    "outputId": "aadb5639-f30b-43bc-c27f-663bbbd658dd"
   },
   "outputs": [
    {
     "data": {
      "application/vnd.microsoft.datawrangler.viewer.v0+json": {
       "columns": [
        {
         "name": "index",
         "rawType": "object",
         "type": "string"
        },
        {
         "name": "page_number",
         "rawType": "float64",
         "type": "float"
        },
        {
         "name": "page_char_count",
         "rawType": "float64",
         "type": "float"
        },
        {
         "name": "page_word_count",
         "rawType": "float64",
         "type": "float"
        },
        {
         "name": "page_sentence_count_raw",
         "rawType": "float64",
         "type": "float"
        },
        {
         "name": "page_token_count",
         "rawType": "float64",
         "type": "float"
        }
       ],
       "conversionMethod": "pd.DataFrame",
       "ref": "0f261c59-9372-4a25-979c-773c294ec2dc",
       "rows": [
        [
         "count",
         "81.0",
         "81.0",
         "81.0",
         "81.0",
         "81.0"
        ],
        [
         "mean",
         "15.73",
         "2374.93",
         "414.11",
         "12.86",
         "593.73"
        ],
        [
         "std",
         "12.5",
         "1852.88",
         "316.0",
         "10.31",
         "463.22"
        ],
        [
         "min",
         "1.0",
         "19.0",
         "3.0",
         "1.0",
         "4.75"
        ],
        [
         "25%",
         "5.0",
         "982.0",
         "166.0",
         "6.0",
         "245.5"
        ],
        [
         "50%",
         "12.0",
         "1899.0",
         "305.0",
         "9.0",
         "474.75"
        ],
        [
         "75%",
         "24.0",
         "3015.0",
         "579.0",
         "19.0",
         "753.75"
        ],
        [
         "max",
         "44.0",
         "7393.0",
         "1306.0",
         "47.0",
         "1848.25"
        ]
       ],
       "shape": {
        "columns": 5,
        "rows": 8
       }
      },
      "text/html": [
       "<div>\n",
       "<style scoped>\n",
       "    .dataframe tbody tr th:only-of-type {\n",
       "        vertical-align: middle;\n",
       "    }\n",
       "\n",
       "    .dataframe tbody tr th {\n",
       "        vertical-align: top;\n",
       "    }\n",
       "\n",
       "    .dataframe thead th {\n",
       "        text-align: right;\n",
       "    }\n",
       "</style>\n",
       "<table border=\"1\" class=\"dataframe\">\n",
       "  <thead>\n",
       "    <tr style=\"text-align: right;\">\n",
       "      <th></th>\n",
       "      <th>page_number</th>\n",
       "      <th>page_char_count</th>\n",
       "      <th>page_word_count</th>\n",
       "      <th>page_sentence_count_raw</th>\n",
       "      <th>page_token_count</th>\n",
       "    </tr>\n",
       "  </thead>\n",
       "  <tbody>\n",
       "    <tr>\n",
       "      <th>count</th>\n",
       "      <td>81.00</td>\n",
       "      <td>81.00</td>\n",
       "      <td>81.00</td>\n",
       "      <td>81.00</td>\n",
       "      <td>81.00</td>\n",
       "    </tr>\n",
       "    <tr>\n",
       "      <th>mean</th>\n",
       "      <td>15.73</td>\n",
       "      <td>2374.93</td>\n",
       "      <td>414.11</td>\n",
       "      <td>12.86</td>\n",
       "      <td>593.73</td>\n",
       "    </tr>\n",
       "    <tr>\n",
       "      <th>std</th>\n",
       "      <td>12.50</td>\n",
       "      <td>1852.88</td>\n",
       "      <td>316.00</td>\n",
       "      <td>10.31</td>\n",
       "      <td>463.22</td>\n",
       "    </tr>\n",
       "    <tr>\n",
       "      <th>min</th>\n",
       "      <td>1.00</td>\n",
       "      <td>19.00</td>\n",
       "      <td>3.00</td>\n",
       "      <td>1.00</td>\n",
       "      <td>4.75</td>\n",
       "    </tr>\n",
       "    <tr>\n",
       "      <th>25%</th>\n",
       "      <td>5.00</td>\n",
       "      <td>982.00</td>\n",
       "      <td>166.00</td>\n",
       "      <td>6.00</td>\n",
       "      <td>245.50</td>\n",
       "    </tr>\n",
       "    <tr>\n",
       "      <th>50%</th>\n",
       "      <td>12.00</td>\n",
       "      <td>1899.00</td>\n",
       "      <td>305.00</td>\n",
       "      <td>9.00</td>\n",
       "      <td>474.75</td>\n",
       "    </tr>\n",
       "    <tr>\n",
       "      <th>75%</th>\n",
       "      <td>24.00</td>\n",
       "      <td>3015.00</td>\n",
       "      <td>579.00</td>\n",
       "      <td>19.00</td>\n",
       "      <td>753.75</td>\n",
       "    </tr>\n",
       "    <tr>\n",
       "      <th>max</th>\n",
       "      <td>44.00</td>\n",
       "      <td>7393.00</td>\n",
       "      <td>1306.00</td>\n",
       "      <td>47.00</td>\n",
       "      <td>1848.25</td>\n",
       "    </tr>\n",
       "  </tbody>\n",
       "</table>\n",
       "</div>"
      ],
      "text/plain": [
       "       page_number  page_char_count  page_word_count  page_sentence_count_raw  \\\n",
       "count        81.00            81.00            81.00                    81.00   \n",
       "mean         15.73          2374.93           414.11                    12.86   \n",
       "std          12.50          1852.88           316.00                    10.31   \n",
       "min           1.00            19.00             3.00                     1.00   \n",
       "25%           5.00           982.00           166.00                     6.00   \n",
       "50%          12.00          1899.00           305.00                     9.00   \n",
       "75%          24.00          3015.00           579.00                    19.00   \n",
       "max          44.00          7393.00          1306.00                    47.00   \n",
       "\n",
       "       page_token_count  \n",
       "count             81.00  \n",
       "mean             593.73  \n",
       "std              463.22  \n",
       "min                4.75  \n",
       "25%              245.50  \n",
       "50%              474.75  \n",
       "75%              753.75  \n",
       "max             1848.25  "
      ]
     },
     "execution_count": 12,
     "metadata": {},
     "output_type": "execute_result"
    }
   ],
   "source": [
    "# Get stats\n",
    "df.describe().round(2)"
   ]
  },
  {
   "cell_type": "markdown",
   "metadata": {
    "id": "KSjT4dTfl06y"
   },
   "source": [
    "### Chunking Text\n",
    "\n",
    "The ideal way of processing text before embedding it is still an active area of research.\n",
    "\n",
    "General workflow :\n",
    "\n",
    "Ingest text -> split it into groups/chunks -> embed the groups/chunks -> store in vector db\n",
    "\n",
    "Several Chunking methods include:\n",
    "1. Character Text Splitting\n",
    "2. Token Text Splitting\n",
    "3. Recursive Character Splitting\n",
    "4. Recursive Token Splitting\n",
    "5. Semantic Chunking\n",
    "6. Cluster Semantic Chunking\n",
    "7. LLM Semantic Chunking/Agentic Chunking\n",
    "\n",
    "According to https://research.trychroma.com/evaluating-chunking, where they evaluated various methods of text chunking:\n",
    "\n",
    "Cluster Semantic Chunking with 200 tokens achieved the highest precision, and IoU\n",
    "\n",
    "LLM Semantic Chunking achieved the highest recall\n",
    "\n",
    "Recursive Character Text Splitting with 200 chunk size and no overlap performs consistently well accross all metrics and much simpler\n",
    "\n",
    "Smaller chunk sizes (200-400 tokens) generally performed better than larger sizes (800 tokens)\n",
    "\n",
    "Using the packages in the repo https://github.com/brandonstarxel/chunking_evaluation.git, we are able to import the code responsible for most of the chunking methods\n"
   ]
  },
  {
   "cell_type": "code",
   "execution_count": null,
   "metadata": {},
   "outputs": [],
   "source": [
    "#!pip install git+https://github.com/brandonstarxel/chunking_evaluation.git"
   ]
  },
  {
   "cell_type": "markdown",
   "metadata": {},
   "source": [
    "Recursive is more efficient but may produce inconsistent text result depending on the document"
   ]
  },
  {
   "cell_type": "code",
   "execution_count": 15,
   "metadata": {},
   "outputs": [
    {
     "name": "stderr",
     "output_type": "stream",
     "text": [
      "100%|██████████| 81/81 [00:00<00:00, 13604.78it/s]\n"
     ]
    }
   ],
   "source": [
    "from chunking_evaluation import BaseChunker, GeneralEvaluation\n",
    "from chunking_evaluation.chunking import (\n",
    "    RecursiveTokenChunker,\n",
    ")\n",
    "from chromadb.utils import embedding_functions\n",
    "\n",
    "embedding_function = embedding_functions.DefaultEmbeddingFunction()\n",
    "chunker = RecursiveTokenChunker(\n",
    "    chunk_size=800,  # Character Length\n",
    "    chunk_overlap=0,  # Overlap\n",
    "    length_function=len,  # Character length with len()\n",
    "    separators=[\"\\n\\n\", \"\\n\", \".\", \"?\", \"!\", \" \", \"\"] # According to Research\n",
    ")\n",
    "\n",
    "for item in tqdm(pages_and_texts):\n",
    "    item[\"sentence_chunks\"] = chunker.split_text(item[\"text\"])"
   ]
  },
  {
   "cell_type": "markdown",
   "metadata": {},
   "source": [
    "ClusterSemanticChunker produces the best results but slower\n",
    "\n",
    "By default, ClusterSemanticChunker first splits texts using the recursive method and then arrange them into chunks using a similarity matrix.\n",
    "\n",
    "However, i find that the recursive method does not work well in splitting text from my PDFs, so in this case, we are using the Spacy library \n",
    "\n",
    "to assist in splitting our texts into appropriate sentences"
   ]
  },
  {
   "cell_type": "code",
   "execution_count": null,
   "metadata": {},
   "outputs": [
    {
     "name": "stderr",
     "output_type": "stream",
     "text": [
      " 15%|█▍        | 12/81 [00:11<00:59,  1.16it/s]c:\\Users\\Asus\\anaconda3\\Lib\\site-packages\\numpy\\core\\fromnumeric.py:3504: RuntimeWarning: Mean of empty slice.\n",
      "  return _methods._mean(a, axis=axis, dtype=dtype,\n",
      "c:\\Users\\Asus\\anaconda3\\Lib\\site-packages\\numpy\\core\\_methods.py:129: RuntimeWarning: invalid value encountered in divide\n",
      "  ret = ret.dtype.type(ret / rcount)\n",
      "100%|██████████| 81/81 [01:03<00:00,  1.28it/s]\n"
     ]
    }
   ],
   "source": [
    "from spacy.lang.en import English\n",
    "from tqdm import tqdm\n",
    "\n",
    "class SpacySentenceSplitter:\n",
    "    def __init__(self):\n",
    "        self.nlp = English()\n",
    "        self.nlp.add_pipe(\"sentencizer\")\n",
    "\n",
    "    def split_text(self, text):\n",
    "        doc = self.nlp(text)\n",
    "        return [str(sent).strip() for sent in doc.sents if str(sent).strip()]\n",
    "\n",
    "\n",
    "from chunking_evaluation import BaseChunker, GeneralEvaluation\n",
    "from chunking_evaluation.chunking import (\n",
    "    ClusterSemanticChunker,\n",
    ")\n",
    "from chromadb.utils import embedding_functions\n",
    "\n",
    "embedding_function = embedding_functions.DefaultEmbeddingFunction()\n",
    "chunker = ClusterSemanticChunker(\n",
    "    embedding_function=embedding_function, \n",
    "    max_chunk_size=200, \n",
    ")\n",
    "\n",
    "# Use Spacy as the text splitter\n",
    "chunker.splitter = SpacySentenceSplitter()\n",
    "\n",
    "for item in tqdm(pages_and_texts):\n",
    "    item[\"sentence_chunks\"] = chunker.split_text(item[\"text\"])"
   ]
  },
  {
   "cell_type": "code",
   "execution_count": 17,
   "metadata": {},
   "outputs": [
    {
     "data": {
      "text/plain": [
       "{'page_number': 14,\n",
       " 'pdf_name': 'Hilti_BindingCorporateRules.pdf',\n",
       " 'page_char_count': 5045,\n",
       " 'page_word_count': 848,\n",
       " 'page_sentence_count_raw': 22,\n",
       " 'page_token_count': 1261.25,\n",
       " 'text': 'www.hilti.group 14 best efforts to obtain the right to waive this prohibition in  order to communicate as much information as it can and as  soon as possible and be able to demonstrate that it did so.  If despite using its best efforts a Hilti Entity or Hilti HQ is  unable to notify the competent Supervisory Authority, it  undertakes to at least annually provide the Supervisory   Authority with information related to the requests received  by the national security state bodies or authorities and at  least the information listed above. The transfers of Personal Data from a Hilti Entity to national  security state bodies or authorities shall never be done in  an excessive, disproportionate, and indiscriminate manner  which would go beyond what is necessary in a democratic  society. c. Relationship between national laws and BCR Hilti bound by the BCR implements very protective measures for the rights and freedoms of Data Subjects. The application of the highest data protection standards in all Hilti internal processes ensures that it develops its products and services in accordance with the principles set out in the BCR. Nevertheless, and in accordance with the provisions of   European data protection laws and regulations, there are  situations in which national laws and regulations may be  more protective than the principles set forth and applied  in the Hilti BCR or provide specific requirements. Where  such local legislation requires a higher level of protection  for Personal Data than those set forth in the BCR, it will take  precedence over the BCR. Where local legislation requires a  lower level of protection for Personal Data, the BCR will take  precedence. Such protective or additional provisions are assessed with  respect to the principles relating to the processing of Per- sonal Data.  As a consequence, any Hilti Entity undertakes to comply  with the applicable national or local provisions whenever  these have additional and protective effects for Data Sub- jects or provide specific provisions applicable in the country.  Each Hilti Entity is responsible for taking additional actions  where deemed necessary in accordance with the national  laws in which it is based. Such provisions include: •\\t Right for Data Subjects to decide on the fate of their Personal Data after death including exercising of rights by heirs or designated persons •\\t Processing of Personal Data in the field of employment, social security, or social protection law •\\t Application of Data Subject rights •\\t Conducting Data Protection Impact Assessments (DPIA) in accordance with specific local requirements •\\t Exercise DPO tasks in accordance with local requirements (e.g., secrecy obligation) Hilti Entities communicate to and provide the Regional Data  Protection Officer, the Global Team and CPO with a copy of  such local or national laws and applicable requirements. Where a Hilti Entity is taking actions, such as developing  local processes or policies, it must provide the Global Team  and CPO with a copy and details of such procedure or policy.  It has to be noted that such national laws do not override  BCR and are to be considered to be additional requirements  applicable in the country or state where the Hilti Entity is  based. In the event such new provisions are applicable in  one or several Hilti Entities, the latter must act and train  the relevant employees to ensure that such provisions are  implemented in existing processes or create new ones. Furthermore, there are cases where Hilti needs to assess  national requirements which may affect Personal Data  transfers.  In such case, Hilti will conduct an assessment prior to any  transfer of Personal Data to a third country.  This analysis is conducted by the exporting entity with  assistance of the importing entity to determine the con- ditions and circumstances by which the transfer can take  place, such as the categories of Personal Data transferred,  categories of Data Subjects, type of processing activity,  dataflow, evaluation of TOM’s as well as legislations, stat- utes, court orders or mandatory standards applicable to  such transfer of Personal Data and/or such importing entity.  Where the result of such assessment prevents the exporting  entity from fulfilling its obligations under the herewith BCR,  such exporting entity will either: •\\t Not start any transfer of Personal Data to the importing entity or •\\t For existing processing activities, discontinue any transfer of Personal Data or •\\t Implement supplementary measures in order to maintain the highest data protection standards as defined in the herewith BCR and in accordance with the latest EEA/ EDPB guidance In the event no supplementary measures can be put in  place, the exporting entity will either not start the processing  activity or suspend any transfer of Personal Data.  The assessment can take the form of a DPIA with specific  information relating to the supplementary measures. The  documentation is made available to Supervisory Authorities  upon request.',\n",
       " 'sentence_chunks': ['www.hilti.group 14 best efforts to obtain the right to waive this prohibition in  order to communicate as much information as it can and as  soon as possible and be able to demonstrate that it did so. If despite using its best efforts a Hilti Entity or Hilti HQ is  unable to notify the competent Supervisory Authority, it  undertakes to at least annually provide the Supervisory   Authority with information related to the requests received  by the national security state bodies or authorities and at  least the information listed above. The transfers of Personal Data from a Hilti Entity to national  security state bodies or authorities shall never be done in  an excessive, disproportionate, and indiscriminate manner  which would go beyond what is necessary in a democratic  society. c. Relationship between national laws and BCR Hilti bound by the BCR implements very protective measures for the rights and freedoms of Data Subjects.',\n",
       "  'The application of the highest data protection standards in all Hilti internal processes ensures that it develops its products and services in accordance with the principles set out in the BCR. Nevertheless, and in accordance with the provisions of   European data protection laws and regulations, there are  situations in which national laws and regulations may be  more protective than the principles set forth and applied  in the Hilti BCR or provide specific requirements. Where  such local legislation requires a higher level of protection  for Personal Data than those set forth in the BCR, it will take  precedence over the BCR. Where local legislation requires a  lower level of protection for Personal Data, the BCR will take  precedence.',\n",
       "  'Such protective or additional provisions are assessed with  respect to the principles relating to the processing of Per- sonal Data.',\n",
       "  'As a consequence, any Hilti Entity undertakes to comply  with the applicable national or local provisions whenever  these have additional and protective effects for Data Sub- jects or provide specific provisions applicable in the country. Each Hilti Entity is responsible for taking additional actions  where deemed necessary in accordance with the national  laws in which it is based. Such provisions include: •\\t Right for Data Subjects to decide on the fate of their Personal Data after death including exercising of rights by heirs or designated persons •\\t Processing of Personal Data in the field of employment, social security, or social protection law •\\t Application of Data Subject rights •\\t Conducting Data Protection Impact Assessments (DPIA) in accordance with specific local requirements •\\t Exercise DPO tasks in accordance with local requirements (e.g., secrecy obligation) Hilti Entities communicate to and provide the Regional Data  Protection Officer, the Global Team and CPO with a copy of  such local or national laws and applicable requirements. Where a Hilti Entity is taking actions, such as developing  local processes or policies, it must provide the Global Team  and CPO with a copy and details of such procedure or policy.',\n",
       "  'It has to be noted that such national laws do not override  BCR and are to be considered to be additional requirements  applicable in the country or state where the Hilti Entity is  based. In the event such new provisions are applicable in  one or several Hilti Entities, the latter must act and train  the relevant employees to ensure that such provisions are  implemented in existing processes or create new ones. Furthermore, there are cases where Hilti needs to assess  national requirements which may affect Personal Data  transfers. In such case, Hilti will conduct an assessment prior to any  transfer of Personal Data to a third country.',\n",
       "  'This analysis is conducted by the exporting entity with  assistance of the importing entity to determine the con- ditions and circumstances by which the transfer can take  place, such as the categories of Personal Data transferred,  categories of Data Subjects, type of processing activity,  dataflow, evaluation of TOM’s as well as legislations, stat- utes, court orders or mandatory standards applicable to  such transfer of Personal Data and/or such importing entity. Where the result of such assessment prevents the exporting  entity from fulfilling its obligations under the herewith BCR,  such exporting entity will either: •\\t Not start any transfer of Personal Data to the importing entity or •\\t For existing processing activities, discontinue any transfer of Personal Data or •\\t Implement supplementary measures in order to maintain the highest data protection standards as defined in the herewith BCR and in accordance with the latest EEA/ EDPB guidance In the event no supplementary measures can be put in  place, the exporting entity will either not start the processing  activity or suspend any transfer of Personal Data.',\n",
       "  'The assessment can take the form of a DPIA with specific  information relating to the supplementary measures.',\n",
       "  'The  documentation is made available to Supervisory Authorities  upon request.']}"
      ]
     },
     "execution_count": 17,
     "metadata": {},
     "output_type": "execute_result"
    }
   ],
   "source": [
    "pages_and_texts[30]"
   ]
  },
  {
   "cell_type": "code",
   "execution_count": 18,
   "metadata": {
    "id": "ZOG_TGOgl06z",
    "outputId": "25946c61-eecf-4c8c-ab3b-9c1a2b488327"
   },
   "outputs": [
    {
     "data": {
      "text/plain": [
       "[{'page_number': 6,\n",
       "  'pdf_name': 'Hilti Malaysia - Terms and Conditions 2019.pdf',\n",
       "  'page_char_count': 2929,\n",
       "  'page_word_count': 555,\n",
       "  'page_sentence_count_raw': 19,\n",
       "  'page_token_count': 732.25,\n",
       "  'text': 'Hilti Malaysia Sdn. Bhd. (157721-A)  F-5-A | Sime Darby Brunsfield Tower  No. 2 | Jalan PJU 1A/7A  Oasis Square I Oasis Damansara  47301 Petaling Jaya I Selangor I Malaysia  Toll Free 1800 880 985 | F +603 7848 7399 | www.hilti.com.my  cleaned and serviced in accordance with the Hilti Operating Instructions provided in  your RED Hilti Box. Only original Hilti consumables, components and spare parts  are used in this premium tool.    9.2   If the tool is not covered by the warranty period, Hilti will issue a quotation for  repairs above Ringgit Malaysia 200.00 and will issue a quotation for repair below  Ringgit Malaysia 200.00 upon request in the event of a request for repairs. Please  note that Hilti Lifetime Service and Repair Cost Limit does not apply to all tools,  please call our customer service for more information at 1800-88-0985 or visit our  website at www.hilti.com.my.    9.3   Hilti reserves the right not to repair any Hilti machines / tools with missing parts and  or fully or partially disassembled machines / tools received for repairs. Hilti also  reserves the right not to repair any machines / tool damages caused by vandalism,  rough or negligent handling.    9.4   There will be a minimum charge of Ringgit Malaysia 100.00 for each returned  unrepaired machine / tool irrespective of whether the tool is still under warranty.    9.5   There will be a minimum charge of Ringgit Malaysia 200.00 for tools you have  requested for us to repair and you request for us to dismantle after repair is  completed irrespective of whether the tool is still under warranty.    9.6   Hilti is not obligated for direct, indirect, incidental or consequential damages, losses  or expenses in connection with, or by reason of, use of, or inability to use the  products for any purposes. Implied warranties of merchantability or fitness for a  particular purpose are specifically excluded.    9.7   Customer is responsible for all transportation charges and insurance of any tools  returned to the Hilti sales office/repair centre and any customs or imports duties for  any replacement parts, including units under warranty.    9.8   Hilti reserves the right to take possession and dispose of the tool at its own  discretion should any of the tools remain in Hilti’s possession for more than four (4)  weeks after quotation or repair and the customer fails to collect the tool.    9.9   Hilti reserves the right to amend the above repair policy without prior notice.      10.   WARRANTIES    10.1   All Goods are sold with the benefit of and subject to the conditions of the warranty  supplied with them, which is available for inspection on request.  If no specific  warranty is supplied with the Goods, Hilti will, at Hilti’s sole option and absolute  discretion and subject to Clause 10.2, replace, refund, repair the Goods if Hilti is  notified of any defect within twelve (12) months of delivery of the Goods.',\n",
       "  'sentence_chunks': ['Hilti Malaysia Sdn. Bhd. ( 157721-A)  F-5-A | Sime Darby Brunsfield Tower  No. 2 | Jalan PJU 1A/7A  Oasis Square I Oasis Damansara  47301 Petaling Jaya I Selangor I Malaysia  Toll Free 1800 880 985 | F +603 7848 7399 | www.hilti.com.my  cleaned and serviced in accordance with the Hilti Operating Instructions provided in  your RED Hilti Box. Only original Hilti consumables, components and spare parts  are used in this premium tool.',\n",
       "   '9.2   If the tool is not covered by the warranty period, Hilti will issue a quotation for  repairs above Ringgit Malaysia 200.00 and will issue a quotation for repair below  Ringgit Malaysia 200.00 upon request in the event of a request for repairs. Please  note that Hilti Lifetime Service and Repair Cost Limit does not apply to all tools,  please call our customer service for more information at 1800-88-0985 or visit our  website at www.hilti.com.my. 9.3   Hilti reserves the right not to repair any Hilti machines / tools with missing parts and  or fully or partially disassembled machines / tools received for repairs. Hilti also  reserves the right not to repair any machines / tool damages caused by vandalism,  rough or negligent handling.',\n",
       "   '9.4   There will be a minimum charge of Ringgit Malaysia 100.00 for each returned  unrepaired machine / tool irrespective of whether the tool is still under warranty. 9.5   There will be a minimum charge of Ringgit Malaysia 200.00 for tools you have  requested for us to repair and you request for us to dismantle after repair is  completed irrespective of whether the tool is still under warranty.',\n",
       "   '9.6   Hilti is not obligated for direct, indirect, incidental or consequential damages, losses  or expenses in connection with, or by reason of, use of, or inability to use the  products for any purposes. Implied warranties of merchantability or fitness for a  particular purpose are specifically excluded.',\n",
       "   '9.7   Customer is responsible for all transportation charges and insurance of any tools  returned to the Hilti sales office/repair centre and any customs or imports duties for  any replacement parts, including units under warranty. 9.8   Hilti reserves the right to take possession and dispose of the tool at its own  discretion should any of the tools remain in Hilti’s possession for more than four (4)  weeks after quotation or repair and the customer fails to collect the tool. 9.9   Hilti reserves the right to amend the above repair policy without prior notice.',\n",
       "   '10.',\n",
       "   'WARRANTIES    10.1   All Goods are sold with the benefit of and subject to the conditions of the warranty  supplied with them, which is available for inspection on request. If no specific  warranty is supplied with the Goods, Hilti will, at Hilti’s sole option and absolute  discretion and subject to Clause 10.2, replace, refund, repair the Goods if Hilti is  notified of any defect within twelve (12) months of delivery of the Goods.']}]"
      ]
     },
     "execution_count": 18,
     "metadata": {},
     "output_type": "execute_result"
    }
   ],
   "source": [
    "# Inspect an example\n",
    "random.sample(pages_and_texts, k=1)"
   ]
  },
  {
   "cell_type": "code",
   "execution_count": 19,
   "metadata": {
    "id": "DM4vLozil06z",
    "outputId": "f9d581ba-afec-4e2d-ca4b-8b35ec6da15b"
   },
   "outputs": [
    {
     "data": {
      "application/vnd.microsoft.datawrangler.viewer.v0+json": {
       "columns": [
        {
         "name": "index",
         "rawType": "object",
         "type": "string"
        },
        {
         "name": "page_number",
         "rawType": "float64",
         "type": "float"
        },
        {
         "name": "page_char_count",
         "rawType": "float64",
         "type": "float"
        },
        {
         "name": "page_word_count",
         "rawType": "float64",
         "type": "float"
        },
        {
         "name": "page_sentence_count_raw",
         "rawType": "float64",
         "type": "float"
        },
        {
         "name": "page_token_count",
         "rawType": "float64",
         "type": "float"
        }
       ],
       "conversionMethod": "pd.DataFrame",
       "ref": "1f0000a6-12ef-4d3e-a36a-46f445daae47",
       "rows": [
        [
         "count",
         "81.0",
         "81.0",
         "81.0",
         "81.0",
         "81.0"
        ],
        [
         "mean",
         "15.73",
         "2374.93",
         "414.11",
         "12.86",
         "593.73"
        ],
        [
         "std",
         "12.5",
         "1852.88",
         "316.0",
         "10.31",
         "463.22"
        ],
        [
         "min",
         "1.0",
         "19.0",
         "3.0",
         "1.0",
         "4.75"
        ],
        [
         "25%",
         "5.0",
         "982.0",
         "166.0",
         "6.0",
         "245.5"
        ],
        [
         "50%",
         "12.0",
         "1899.0",
         "305.0",
         "9.0",
         "474.75"
        ],
        [
         "75%",
         "24.0",
         "3015.0",
         "579.0",
         "19.0",
         "753.75"
        ],
        [
         "max",
         "44.0",
         "7393.0",
         "1306.0",
         "47.0",
         "1848.25"
        ]
       ],
       "shape": {
        "columns": 5,
        "rows": 8
       }
      },
      "text/html": [
       "<div>\n",
       "<style scoped>\n",
       "    .dataframe tbody tr th:only-of-type {\n",
       "        vertical-align: middle;\n",
       "    }\n",
       "\n",
       "    .dataframe tbody tr th {\n",
       "        vertical-align: top;\n",
       "    }\n",
       "\n",
       "    .dataframe thead th {\n",
       "        text-align: right;\n",
       "    }\n",
       "</style>\n",
       "<table border=\"1\" class=\"dataframe\">\n",
       "  <thead>\n",
       "    <tr style=\"text-align: right;\">\n",
       "      <th></th>\n",
       "      <th>page_number</th>\n",
       "      <th>page_char_count</th>\n",
       "      <th>page_word_count</th>\n",
       "      <th>page_sentence_count_raw</th>\n",
       "      <th>page_token_count</th>\n",
       "    </tr>\n",
       "  </thead>\n",
       "  <tbody>\n",
       "    <tr>\n",
       "      <th>count</th>\n",
       "      <td>81.00</td>\n",
       "      <td>81.00</td>\n",
       "      <td>81.00</td>\n",
       "      <td>81.00</td>\n",
       "      <td>81.00</td>\n",
       "    </tr>\n",
       "    <tr>\n",
       "      <th>mean</th>\n",
       "      <td>15.73</td>\n",
       "      <td>2374.93</td>\n",
       "      <td>414.11</td>\n",
       "      <td>12.86</td>\n",
       "      <td>593.73</td>\n",
       "    </tr>\n",
       "    <tr>\n",
       "      <th>std</th>\n",
       "      <td>12.50</td>\n",
       "      <td>1852.88</td>\n",
       "      <td>316.00</td>\n",
       "      <td>10.31</td>\n",
       "      <td>463.22</td>\n",
       "    </tr>\n",
       "    <tr>\n",
       "      <th>min</th>\n",
       "      <td>1.00</td>\n",
       "      <td>19.00</td>\n",
       "      <td>3.00</td>\n",
       "      <td>1.00</td>\n",
       "      <td>4.75</td>\n",
       "    </tr>\n",
       "    <tr>\n",
       "      <th>25%</th>\n",
       "      <td>5.00</td>\n",
       "      <td>982.00</td>\n",
       "      <td>166.00</td>\n",
       "      <td>6.00</td>\n",
       "      <td>245.50</td>\n",
       "    </tr>\n",
       "    <tr>\n",
       "      <th>50%</th>\n",
       "      <td>12.00</td>\n",
       "      <td>1899.00</td>\n",
       "      <td>305.00</td>\n",
       "      <td>9.00</td>\n",
       "      <td>474.75</td>\n",
       "    </tr>\n",
       "    <tr>\n",
       "      <th>75%</th>\n",
       "      <td>24.00</td>\n",
       "      <td>3015.00</td>\n",
       "      <td>579.00</td>\n",
       "      <td>19.00</td>\n",
       "      <td>753.75</td>\n",
       "    </tr>\n",
       "    <tr>\n",
       "      <th>max</th>\n",
       "      <td>44.00</td>\n",
       "      <td>7393.00</td>\n",
       "      <td>1306.00</td>\n",
       "      <td>47.00</td>\n",
       "      <td>1848.25</td>\n",
       "    </tr>\n",
       "  </tbody>\n",
       "</table>\n",
       "</div>"
      ],
      "text/plain": [
       "       page_number  page_char_count  page_word_count  page_sentence_count_raw  \\\n",
       "count        81.00            81.00            81.00                    81.00   \n",
       "mean         15.73          2374.93           414.11                    12.86   \n",
       "std          12.50          1852.88           316.00                    10.31   \n",
       "min           1.00            19.00             3.00                     1.00   \n",
       "25%           5.00           982.00           166.00                     6.00   \n",
       "50%          12.00          1899.00           305.00                     9.00   \n",
       "75%          24.00          3015.00           579.00                    19.00   \n",
       "max          44.00          7393.00          1306.00                    47.00   \n",
       "\n",
       "       page_token_count  \n",
       "count             81.00  \n",
       "mean             593.73  \n",
       "std              463.22  \n",
       "min                4.75  \n",
       "25%              245.50  \n",
       "50%              474.75  \n",
       "75%              753.75  \n",
       "max             1848.25  "
      ]
     },
     "execution_count": 19,
     "metadata": {},
     "output_type": "execute_result"
    }
   ],
   "source": [
    "df = pd.DataFrame(pages_and_texts)\n",
    "df.describe().round(2)"
   ]
  },
  {
   "cell_type": "code",
   "execution_count": 24,
   "metadata": {
    "id": "iUnGrtuSl06z",
    "outputId": "9558eb0b-5d81-4011-d5ce-dc29ae67bfe9"
   },
   "outputs": [
    {
     "data": {
      "text/plain": [
       "[{'page_number': 16,\n",
       "  'pdf_name': 'Hilti_GB_2020_en_pdf.pdf',\n",
       "  'page_char_count': 273,\n",
       "  'page_word_count': 43,\n",
       "  'page_sentence_count_raw': 2,\n",
       "  'page_token_count': 68.25,\n",
       "  'text': 'Product and Service Differentiation Direct   Customer Relationship The core of our  corporate strategy:  direct access to  and partnership  with our customers  in the construction  industry. Operational Excellence High-Performing Global Team 2020 Hilti Company Report 26–27',\n",
       "  'sentence_chunks': ['Product and Service Differentiation Direct   Customer Relationship The core of our  corporate strategy:  direct access to  and partnership  with our customers  in the construction  industry. Operational Excellence High-Performing Global Team 2020 Hilti Company Report 26–27']}]"
      ]
     },
     "execution_count": 24,
     "metadata": {},
     "output_type": "execute_result"
    }
   ],
   "source": [
    "# Sample an example from the group\n",
    "random.sample(pages_and_texts, k=1)"
   ]
  },
  {
   "cell_type": "code",
   "execution_count": 23,
   "metadata": {
    "id": "uUJfBxsCl06z",
    "outputId": "d54abd3b-6f66-4e2a-d906-930a2c2b648f"
   },
   "outputs": [
    {
     "data": {
      "application/vnd.microsoft.datawrangler.viewer.v0+json": {
       "columns": [
        {
         "name": "index",
         "rawType": "object",
         "type": "string"
        },
        {
         "name": "page_number",
         "rawType": "float64",
         "type": "float"
        },
        {
         "name": "page_char_count",
         "rawType": "float64",
         "type": "float"
        },
        {
         "name": "page_word_count",
         "rawType": "float64",
         "type": "float"
        },
        {
         "name": "page_sentence_count_raw",
         "rawType": "float64",
         "type": "float"
        },
        {
         "name": "page_token_count",
         "rawType": "float64",
         "type": "float"
        }
       ],
       "conversionMethod": "pd.DataFrame",
       "ref": "b1190b8a-2451-4e3d-afcd-602910f104db",
       "rows": [
        [
         "count",
         "81.0",
         "81.0",
         "81.0",
         "81.0",
         "81.0"
        ],
        [
         "mean",
         "15.73",
         "2374.93",
         "414.11",
         "12.86",
         "593.73"
        ],
        [
         "std",
         "12.5",
         "1852.88",
         "316.0",
         "10.31",
         "463.22"
        ],
        [
         "min",
         "1.0",
         "19.0",
         "3.0",
         "1.0",
         "4.75"
        ],
        [
         "25%",
         "5.0",
         "982.0",
         "166.0",
         "6.0",
         "245.5"
        ],
        [
         "50%",
         "12.0",
         "1899.0",
         "305.0",
         "9.0",
         "474.75"
        ],
        [
         "75%",
         "24.0",
         "3015.0",
         "579.0",
         "19.0",
         "753.75"
        ],
        [
         "max",
         "44.0",
         "7393.0",
         "1306.0",
         "47.0",
         "1848.25"
        ]
       ],
       "shape": {
        "columns": 5,
        "rows": 8
       }
      },
      "text/html": [
       "<div>\n",
       "<style scoped>\n",
       "    .dataframe tbody tr th:only-of-type {\n",
       "        vertical-align: middle;\n",
       "    }\n",
       "\n",
       "    .dataframe tbody tr th {\n",
       "        vertical-align: top;\n",
       "    }\n",
       "\n",
       "    .dataframe thead th {\n",
       "        text-align: right;\n",
       "    }\n",
       "</style>\n",
       "<table border=\"1\" class=\"dataframe\">\n",
       "  <thead>\n",
       "    <tr style=\"text-align: right;\">\n",
       "      <th></th>\n",
       "      <th>page_number</th>\n",
       "      <th>page_char_count</th>\n",
       "      <th>page_word_count</th>\n",
       "      <th>page_sentence_count_raw</th>\n",
       "      <th>page_token_count</th>\n",
       "    </tr>\n",
       "  </thead>\n",
       "  <tbody>\n",
       "    <tr>\n",
       "      <th>count</th>\n",
       "      <td>81.00</td>\n",
       "      <td>81.00</td>\n",
       "      <td>81.00</td>\n",
       "      <td>81.00</td>\n",
       "      <td>81.00</td>\n",
       "    </tr>\n",
       "    <tr>\n",
       "      <th>mean</th>\n",
       "      <td>15.73</td>\n",
       "      <td>2374.93</td>\n",
       "      <td>414.11</td>\n",
       "      <td>12.86</td>\n",
       "      <td>593.73</td>\n",
       "    </tr>\n",
       "    <tr>\n",
       "      <th>std</th>\n",
       "      <td>12.50</td>\n",
       "      <td>1852.88</td>\n",
       "      <td>316.00</td>\n",
       "      <td>10.31</td>\n",
       "      <td>463.22</td>\n",
       "    </tr>\n",
       "    <tr>\n",
       "      <th>min</th>\n",
       "      <td>1.00</td>\n",
       "      <td>19.00</td>\n",
       "      <td>3.00</td>\n",
       "      <td>1.00</td>\n",
       "      <td>4.75</td>\n",
       "    </tr>\n",
       "    <tr>\n",
       "      <th>25%</th>\n",
       "      <td>5.00</td>\n",
       "      <td>982.00</td>\n",
       "      <td>166.00</td>\n",
       "      <td>6.00</td>\n",
       "      <td>245.50</td>\n",
       "    </tr>\n",
       "    <tr>\n",
       "      <th>50%</th>\n",
       "      <td>12.00</td>\n",
       "      <td>1899.00</td>\n",
       "      <td>305.00</td>\n",
       "      <td>9.00</td>\n",
       "      <td>474.75</td>\n",
       "    </tr>\n",
       "    <tr>\n",
       "      <th>75%</th>\n",
       "      <td>24.00</td>\n",
       "      <td>3015.00</td>\n",
       "      <td>579.00</td>\n",
       "      <td>19.00</td>\n",
       "      <td>753.75</td>\n",
       "    </tr>\n",
       "    <tr>\n",
       "      <th>max</th>\n",
       "      <td>44.00</td>\n",
       "      <td>7393.00</td>\n",
       "      <td>1306.00</td>\n",
       "      <td>47.00</td>\n",
       "      <td>1848.25</td>\n",
       "    </tr>\n",
       "  </tbody>\n",
       "</table>\n",
       "</div>"
      ],
      "text/plain": [
       "       page_number  page_char_count  page_word_count  page_sentence_count_raw  \\\n",
       "count        81.00            81.00            81.00                    81.00   \n",
       "mean         15.73          2374.93           414.11                    12.86   \n",
       "std          12.50          1852.88           316.00                    10.31   \n",
       "min           1.00            19.00             3.00                     1.00   \n",
       "25%           5.00           982.00           166.00                     6.00   \n",
       "50%          12.00          1899.00           305.00                     9.00   \n",
       "75%          24.00          3015.00           579.00                    19.00   \n",
       "max          44.00          7393.00          1306.00                    47.00   \n",
       "\n",
       "       page_token_count  \n",
       "count             81.00  \n",
       "mean             593.73  \n",
       "std              463.22  \n",
       "min                4.75  \n",
       "25%              245.50  \n",
       "50%              474.75  \n",
       "75%              753.75  \n",
       "max             1848.25  "
      ]
     },
     "execution_count": 23,
     "metadata": {},
     "output_type": "execute_result"
    }
   ],
   "source": [
    "# Create a DataFrame to get stats\n",
    "df = pd.DataFrame(pages_and_texts)\n",
    "df.describe().round(2)"
   ]
  },
  {
   "cell_type": "markdown",
   "metadata": {
    "id": "F_tMmt53l060"
   },
   "source": [
    "### Splitting each chunk into its own item\n",
    "\n",
    "We'd like to embed each chunk of sentences into its own numerical representation.\n",
    "\n",
    "So to keep things clean, let's create a new list of dictionaries each containing a single chunk of sentences with relative information such as page number as well statistics about each chunk."
   ]
  },
  {
   "cell_type": "code",
   "execution_count": 25,
   "metadata": {
    "colab": {
     "referenced_widgets": [
      "94ccc5effc2e470d9c910dd607cbcaa9"
     ]
    },
    "id": "2rvkcj3cl060",
    "outputId": "113dd853-9ad0-407e-f97a-3287812d4ceb"
   },
   "outputs": [
    {
     "name": "stderr",
     "output_type": "stream",
     "text": [
      "100%|██████████| 81/81 [00:00<00:00, 9862.65it/s]\n"
     ]
    },
    {
     "data": {
      "text/plain": [
       "439"
      ]
     },
     "execution_count": 25,
     "metadata": {},
     "output_type": "execute_result"
    }
   ],
   "source": [
    "import re\n",
    "\n",
    "# Split each chunk into its own item\n",
    "pages_and_chunks = []\n",
    "for item in tqdm(pages_and_texts):\n",
    "    for sentence_chunk in item[\"sentence_chunks\"]:\n",
    "        chunk_dict = {}\n",
    "        chunk_dict[\"page_number\"] = item[\"page_number\"]\n",
    "        chunk_dict[\"pdf_name\"] = item[\"pdf_name\"]\n",
    "\n",
    "        # Join the sentences together into a paragraph-like structure, aka a chunk (so they are a single string)\n",
    "        joined_sentence_chunk = \"\".join(sentence_chunk).replace(\"  \", \" \").strip()\n",
    "        joined_sentence_chunk = re.sub(r'\\.([A-Z])', r'. \\1', joined_sentence_chunk) # \".A\" -> \". A\" for any full-stop/capital letter combo\n",
    "        chunk_dict[\"sentence_chunk\"] = joined_sentence_chunk\n",
    "\n",
    "        # Get stats about the chunk\n",
    "        chunk_dict[\"chunk_char_count\"] = len(joined_sentence_chunk)\n",
    "        chunk_dict[\"chunk_word_count\"] = len([word for word in joined_sentence_chunk.split(\" \")])\n",
    "        chunk_dict[\"chunk_token_count\"] = len(joined_sentence_chunk) / 4 # 1 token = ~4 characters\n",
    "\n",
    "        pages_and_chunks.append(chunk_dict)\n",
    "\n",
    "# How many chunks do we have?\n",
    "len(pages_and_chunks)"
   ]
  },
  {
   "cell_type": "code",
   "execution_count": 26,
   "metadata": {
    "id": "ev-TlPkhl060",
    "outputId": "039e9445-4e02-43d1-8d36-b1c898a6a8b0"
   },
   "outputs": [
    {
     "data": {
      "text/plain": [
       "[{'page_number': 10,\n",
       "  'pdf_name': 'Hilti_BindingCorporateRules.pdf',\n",
       "  'sentence_chunk': '8.',\n",
       "  'chunk_char_count': 2,\n",
       "  'chunk_word_count': 1,\n",
       "  'chunk_token_count': 0.5}]"
      ]
     },
     "execution_count": 26,
     "metadata": {},
     "output_type": "execute_result"
    }
   ],
   "source": [
    "# View a random sample\n",
    "random.sample(pages_and_chunks, k=1)"
   ]
  },
  {
   "cell_type": "markdown",
   "metadata": {
    "id": "q9st3NR5l060"
   },
   "source": [
    "Now we've broken pdfs into chunks of text with metadata of the page number, and pdf title of where they came from.\n",
    "\n",
    "This means we could reference a chunk of text and know its source.\n",
    "\n",
    "Let's get some stats about our chunks."
   ]
  },
  {
   "cell_type": "code",
   "execution_count": 27,
   "metadata": {
    "id": "0SMiTGfPl060",
    "outputId": "2115b1ee-d252-4b16-d95b-1f75a89cc2d4"
   },
   "outputs": [
    {
     "data": {
      "application/vnd.microsoft.datawrangler.viewer.v0+json": {
       "columns": [
        {
         "name": "index",
         "rawType": "object",
         "type": "string"
        },
        {
         "name": "page_number",
         "rawType": "float64",
         "type": "float"
        },
        {
         "name": "chunk_char_count",
         "rawType": "float64",
         "type": "float"
        },
        {
         "name": "chunk_word_count",
         "rawType": "float64",
         "type": "float"
        },
        {
         "name": "chunk_token_count",
         "rawType": "float64",
         "type": "float"
        }
       ],
       "conversionMethod": "pd.DataFrame",
       "ref": "a3ba5f2a-948d-471f-b07d-b2b75040bd9e",
       "rows": [
        [
         "count",
         "439.0",
         "439.0",
         "439.0",
         "439.0"
        ],
        [
         "mean",
         "15.35",
         "430.41",
         "69.47",
         "107.6"
        ],
        [
         "std",
         "12.14",
         "479.4",
         "76.67",
         "119.85"
        ],
        [
         "min",
         "1.0",
         "2.0",
         "1.0",
         "0.5"
        ],
        [
         "25%",
         "6.0",
         "120.5",
         "19.0",
         "30.12"
        ],
        [
         "50%",
         "11.0",
         "307.0",
         "49.0",
         "76.75"
        ],
        [
         "75%",
         "21.5",
         "558.0",
         "90.5",
         "139.5"
        ],
        [
         "max",
         "44.0",
         "4348.0",
         "696.0",
         "1087.0"
        ]
       ],
       "shape": {
        "columns": 4,
        "rows": 8
       }
      },
      "text/html": [
       "<div>\n",
       "<style scoped>\n",
       "    .dataframe tbody tr th:only-of-type {\n",
       "        vertical-align: middle;\n",
       "    }\n",
       "\n",
       "    .dataframe tbody tr th {\n",
       "        vertical-align: top;\n",
       "    }\n",
       "\n",
       "    .dataframe thead th {\n",
       "        text-align: right;\n",
       "    }\n",
       "</style>\n",
       "<table border=\"1\" class=\"dataframe\">\n",
       "  <thead>\n",
       "    <tr style=\"text-align: right;\">\n",
       "      <th></th>\n",
       "      <th>page_number</th>\n",
       "      <th>chunk_char_count</th>\n",
       "      <th>chunk_word_count</th>\n",
       "      <th>chunk_token_count</th>\n",
       "    </tr>\n",
       "  </thead>\n",
       "  <tbody>\n",
       "    <tr>\n",
       "      <th>count</th>\n",
       "      <td>439.00</td>\n",
       "      <td>439.00</td>\n",
       "      <td>439.00</td>\n",
       "      <td>439.00</td>\n",
       "    </tr>\n",
       "    <tr>\n",
       "      <th>mean</th>\n",
       "      <td>15.35</td>\n",
       "      <td>430.41</td>\n",
       "      <td>69.47</td>\n",
       "      <td>107.60</td>\n",
       "    </tr>\n",
       "    <tr>\n",
       "      <th>std</th>\n",
       "      <td>12.14</td>\n",
       "      <td>479.40</td>\n",
       "      <td>76.67</td>\n",
       "      <td>119.85</td>\n",
       "    </tr>\n",
       "    <tr>\n",
       "      <th>min</th>\n",
       "      <td>1.00</td>\n",
       "      <td>2.00</td>\n",
       "      <td>1.00</td>\n",
       "      <td>0.50</td>\n",
       "    </tr>\n",
       "    <tr>\n",
       "      <th>25%</th>\n",
       "      <td>6.00</td>\n",
       "      <td>120.50</td>\n",
       "      <td>19.00</td>\n",
       "      <td>30.12</td>\n",
       "    </tr>\n",
       "    <tr>\n",
       "      <th>50%</th>\n",
       "      <td>11.00</td>\n",
       "      <td>307.00</td>\n",
       "      <td>49.00</td>\n",
       "      <td>76.75</td>\n",
       "    </tr>\n",
       "    <tr>\n",
       "      <th>75%</th>\n",
       "      <td>21.50</td>\n",
       "      <td>558.00</td>\n",
       "      <td>90.50</td>\n",
       "      <td>139.50</td>\n",
       "    </tr>\n",
       "    <tr>\n",
       "      <th>max</th>\n",
       "      <td>44.00</td>\n",
       "      <td>4348.00</td>\n",
       "      <td>696.00</td>\n",
       "      <td>1087.00</td>\n",
       "    </tr>\n",
       "  </tbody>\n",
       "</table>\n",
       "</div>"
      ],
      "text/plain": [
       "       page_number  chunk_char_count  chunk_word_count  chunk_token_count\n",
       "count       439.00            439.00            439.00             439.00\n",
       "mean         15.35            430.41             69.47             107.60\n",
       "std          12.14            479.40             76.67             119.85\n",
       "min           1.00              2.00              1.00               0.50\n",
       "25%           6.00            120.50             19.00              30.12\n",
       "50%          11.00            307.00             49.00              76.75\n",
       "75%          21.50            558.00             90.50             139.50\n",
       "max          44.00           4348.00            696.00            1087.00"
      ]
     },
     "execution_count": 27,
     "metadata": {},
     "output_type": "execute_result"
    }
   ],
   "source": [
    "# Get stats about our chunks\n",
    "df = pd.DataFrame(pages_and_chunks)\n",
    "df.describe().round(2)"
   ]
  },
  {
   "cell_type": "markdown",
   "metadata": {
    "id": "lPJvIqJil060"
   },
   "source": [
    "looks like some of our chunks have quite a low token count.\n",
    "\n",
    "How about we check for samples with less than 30 tokens (about the length of a sentence) and see if they are worth keeping?"
   ]
  },
  {
   "cell_type": "code",
   "execution_count": 28,
   "metadata": {
    "id": "vg3CSkVtl064",
    "outputId": "7aeae3df-1739-4bb8-c64c-4ce693e70b4e"
   },
   "outputs": [
    {
     "name": "stdout",
     "output_type": "stream",
     "text": [
      "Chunk token count: 23.0 | Text: How can we make our customers’ work on the construction site even safer and more productive?\n",
      "Chunk token count: 19.25 | Text: 3. Choose the correct collector based on the system and insert being used. 4.\n",
      "Chunk token count: 5.5 | Text: www.hilti.group 18 13.\n",
      "Chunk token count: 7.5 | Text: What do you attribute this to?\n",
      "Chunk token count: 18.5 | Text: In 2017, he took over responsibility for the entire North American region.\n"
     ]
    }
   ],
   "source": [
    "# Show random chunks with under 30 tokens in length\n",
    "min_token_length = 30\n",
    "for row in df[df[\"chunk_token_count\"] <= min_token_length].sample(5).iterrows():\n",
    "    print(f'Chunk token count: {row[1][\"chunk_token_count\"]} | Text: {row[1][\"sentence_chunk\"]}')"
   ]
  },
  {
   "cell_type": "markdown",
   "metadata": {
    "id": "6K_2hxMXl064"
   },
   "source": [
    "Looks like many of these are headers and footers of different pages.\n",
    "\n",
    "They don't seem to offer too much information.\n",
    "\n",
    "Let's filter our DataFrame/list of dictionaries to only include chunks with over 30 tokens in length."
   ]
  },
  {
   "cell_type": "code",
   "execution_count": 29,
   "metadata": {
    "id": "gALsc54zl064",
    "outputId": "913a1319-0e1d-479d-89ca-f1bdf05bdd8b"
   },
   "outputs": [
    {
     "data": {
      "text/plain": [
       "[{'page_number': 1,\n",
       "  'pdf_name': 'Hilti Malaysia - Terms and Conditions 2019.pdf',\n",
       "  'sentence_chunk': 'Bhd. ( 157721-A) F-5-A | Sime Darby Brunsfield Tower No. 2 | Jalan PJU 1A/7A Oasis Square I Oasis Damansara 47301 Petaling Jaya I Selangor I Malaysia Toll Free 1800 880 985 | F +603 7848 7399 | www.hilti.com.my HILTI (MALAYSIA) SDN. BHD.',\n",
       "  'chunk_char_count': 237,\n",
       "  'chunk_word_count': 43,\n",
       "  'chunk_token_count': 59.25},\n",
       " {'page_number': 1,\n",
       "  'pdf_name': 'Hilti Malaysia - Terms and Conditions 2019.pdf',\n",
       "  'sentence_chunk': 'TERMS AND CONDITIONS   1. GENERAL  1.1  In these conditions the following words have the meanings shown:   \"Buyer\"  means the person, firm or company purchasing Goods    \"Company\" means Hilti (Malaysia) Sdn Bhd or one of its associated or subsidiary companies as the case may be    \"Contract\" means the agreement between the Company and the Buyer for the purchase of Goods from the Company by the Buyer    \"Contracts\" includes all agreements between the Company and the Buyer for the purchase of Goods from the Company by the Buyer    \"Goods\" means the goods and services supplied by the Company and purchased by the Buyer on the terms of the Contract   “Saleable means those unused items in original packaging, Condition” defect-free and in unbroken quantities  1.2  Unless agreed otherwise, these conditions shall be incorporated in all Contracts of the Company to sell Goods and shall be the entire conditions under which the sale takes place.',\n",
       "  'chunk_char_count': 946,\n",
       "  'chunk_word_count': 174,\n",
       "  'chunk_token_count': 236.5}]"
      ]
     },
     "execution_count": 29,
     "metadata": {},
     "output_type": "execute_result"
    }
   ],
   "source": [
    "pages_and_chunks_over_min_token_len = df[df[\"chunk_token_count\"] > min_token_length].to_dict(orient=\"records\")\n",
    "pages_and_chunks_over_min_token_len[:2]"
   ]
  },
  {
   "cell_type": "markdown",
   "metadata": {
    "id": "y7cpvLexl065"
   },
   "source": [
    "Smaller chunks filtered!\n",
    "\n",
    "Time to embed our chunks of text!"
   ]
  },
  {
   "cell_type": "markdown",
   "metadata": {
    "id": "F2UiN3nll065"
   },
   "source": [
    "### Embedding our text chunks\n",
    "\n",
    "Rather than directly mapping words/tokens/characters to numbers directly (e.g. `{\"a\": 0, \"b\": 1, \"c\": 3...}`), the numerical representation of tokens is learned by going through large corpuses of text and figuring out how different tokens relate to each other.\n",
    "\n",
    "Ideally, embeddings of text will mean that similar meaning texts have similar numerical representation.\n",
    "\n",
    "Our goal is to turn each of our chunks into a numerical representation (an embedding vector, where a vector is a sequence of numbers arranged in order).\n",
    "\n",
    "Specifically, we'll get the `all-mpnet-base-v2` model (you can see the model's intended use on the [Hugging Face model card](https://huggingface.co/sentence-transformers/all-mpnet-base-v2#intended-uses)).\n",
    "\n",
    "And we are storing it in a chroma vector DB"
   ]
  },
  {
   "cell_type": "code",
   "execution_count": 36,
   "metadata": {},
   "outputs": [],
   "source": [
    "# Requires !pip install langchain-huggingface langchain-chroma\n",
    "from langchain_huggingface import HuggingFaceEmbeddings\n",
    "\n",
    "embeddings = HuggingFaceEmbeddings(\n",
    "    model_name=\"sentence-transformers/all-mpnet-base-v2\",\n",
    "    model_kwargs={'device': 'cuda'}  # Tell the model to use the CUDA device\n",
    ")\n",
    "\n",
    "from langchain_chroma import Chroma\n",
    "persist_directory = \"./chroma_langchain_db\"\n",
    "vector_store = Chroma(\n",
    "    collection_name=\"collection\",\n",
    "    embedding_function=embeddings,\n",
    "    persist_directory=persist_directory,  # Where to save data locally, remove if not necessary\n",
    ")"
   ]
  },
  {
   "cell_type": "code",
   "execution_count": 39,
   "metadata": {},
   "outputs": [
    {
     "data": {
      "text/plain": [
       "['0d31cc9c-128e-4e2f-b90a-d8dc3ebc08b4',\n",
       " '8a79bc74-50c0-4ee5-a07a-773d3429986b',\n",
       " 'd8049f10-c42f-42cc-b7a4-cfdfec78e9db',\n",
       " '6649c612-2093-4888-bf38-dfc53fb5d8e0',\n",
       " '55197b2f-5dcb-43ef-aa39-a98a536470c6',\n",
       " '76282f2e-7d7f-4477-b307-f9e875dea131',\n",
       " 'a8ea7f0c-e23c-45bb-815b-cd19fd32cb59',\n",
       " '35d572fe-deeb-4b6d-9a7a-0ed85e81bc35',\n",
       " 'bd795779-6eea-4124-8003-037185611189',\n",
       " 'd28bf841-58b4-45c9-a1d4-60f61ed62bf4',\n",
       " '94d65011-7752-4f9c-90a1-45eab042944b',\n",
       " '3162ed2e-7b77-4c66-9a65-d8e2d38cafaa',\n",
       " '0369ddec-e7a1-4a97-a8d6-6ff9551cb814',\n",
       " 'f1f6419a-6217-4834-b70b-d34e4949a81b',\n",
       " 'bbb89de1-d0d8-455e-8274-97151ca6f7ef',\n",
       " '12fbfd5c-067b-4863-9bf4-b7fde5b6e3ba',\n",
       " '29a1590e-8656-4ec2-afe4-2d2ad8dc2226',\n",
       " '94c016d6-8132-48a4-a028-459b52fb88d6',\n",
       " '0006f889-83b8-415a-900f-e8cec0585a35',\n",
       " '8678a4f2-a266-4e5f-a8fe-6de06f1b5989',\n",
       " '35ff2857-4247-418e-98f4-b22ec109922b',\n",
       " '54d91f22-155f-428b-b8d5-bd396cdec96e',\n",
       " '746ffd33-03ac-4f74-b127-867b7025f404',\n",
       " 'c3aa16ad-d975-4ccf-a304-60461ccdc505',\n",
       " 'baeb915f-7cf7-45ea-a3cb-58f5d137b813',\n",
       " 'f8620745-50da-4514-8e93-e2ea120c9f68',\n",
       " '11581f34-a670-4fb4-b802-a1cffab02b5b',\n",
       " 'c85fded6-8aa2-4cdc-aba7-3d27a1feefc8',\n",
       " '797c4514-6ca0-4543-9e7e-c295226f8ce4',\n",
       " 'd32a2c10-4da2-4c22-8e53-175813d85b5c',\n",
       " '0e94e4a9-c873-480b-9258-28834f2ab8d1',\n",
       " '1d43ce9b-7b8f-477a-8601-4d07815938ca',\n",
       " '19c64b94-635a-45ff-99f2-0e80b1f3f083',\n",
       " '924e065b-35da-4c1d-8274-4faa157fa0c2',\n",
       " '8b17a5c2-cb6f-45b2-93c4-6a7395ea0291',\n",
       " '3626c1b1-8b67-42e4-83ab-e84a58a32226',\n",
       " '651240d3-a8f8-4296-8d03-6eba74e91035',\n",
       " 'b6d99803-bb82-42fd-bb78-4b182c68d248',\n",
       " '74397a62-12bf-42a2-a210-e707949de080',\n",
       " 'e21bfbc3-4f3b-4ece-86fe-7a04f51f86da',\n",
       " '5c63b1ea-0943-43d5-8a44-19ae55f9259f',\n",
       " '50147d6c-893c-42e7-aab3-9b567e2d967a',\n",
       " 'e5f526ba-77f5-471a-b0cb-93ef1ff500e3',\n",
       " 'f3d2e425-dcb6-499d-8806-ee3b4d6efcfa',\n",
       " 'aaade0fe-bc5c-4763-b178-36d9a5f178c0',\n",
       " 'f2837168-4db7-4b0b-8a55-bd55f436cf5e',\n",
       " '4f20c6c8-0b27-4a92-bdd0-91f37a55ef17',\n",
       " '91cb7ce2-0573-473d-9042-93b324955ee0',\n",
       " 'f76f8dd8-7561-4b2e-8efd-bedd28565817',\n",
       " 'd14f60e5-7d3e-412b-b562-b2f05d35834c',\n",
       " '0e34441f-58eb-4a80-850e-3d5f29b6185b',\n",
       " 'bee45a98-ea51-4fc0-91e8-46853ffa1efa',\n",
       " 'f54128e0-6647-42c2-8da2-18f03338d923',\n",
       " 'c0137d3b-9b30-451f-9cd4-d63b7a74bbcf',\n",
       " 'e6df67c7-fcc0-4eed-b6dd-99aaf2db5c84',\n",
       " '2e52743b-145e-46d1-be81-4a608ffd4940',\n",
       " '64d51330-6a4d-450d-86a3-48fc51ea5ed7',\n",
       " '10df867a-96bd-4bd3-9e66-f85960274e3c',\n",
       " 'ec80c7c8-292b-4ccf-84b8-bf83202b9684',\n",
       " '0460afef-eb4f-47b7-8364-35220e346192',\n",
       " '9a741c95-7d32-47dc-ae23-6873dc70f04b',\n",
       " '4dc8f3a2-dd1d-486c-820a-971f2da05b86',\n",
       " '929f9592-ebff-4a5d-9c92-efec23ab1cc2',\n",
       " '9a2275cc-e179-40ca-a447-32381f86f2c4',\n",
       " 'bbd87edb-ca58-4cbb-b7d6-a3b885008bb7',\n",
       " '3c9923d8-9394-4607-a4c2-3b3e830bd9dd',\n",
       " '8cb25f8a-eb65-4a04-8dab-2a398b7bc9f6',\n",
       " '3fd656fb-3000-4768-a5dd-dca146d2384e',\n",
       " '7380c3f1-fa61-46ce-a0f7-8785abfd4eab',\n",
       " '05de7577-7bad-4ba0-ab42-f742171bf5ea',\n",
       " '10e6c495-c167-4e8d-9be9-ef2acc40b4c0',\n",
       " 'd91d49f1-ac54-4e51-bc00-163cf447afd1',\n",
       " '1a4a5390-500f-4984-b04b-0acb0657733a',\n",
       " '4bbd8f52-0509-452f-9a92-9939caa64dfa',\n",
       " 'd7031d71-0cbf-46e3-8367-5278c12f97eb',\n",
       " '809f9950-5b15-45cb-8c8d-57fbb9b4947a',\n",
       " '98f91b25-80ae-4317-90d3-86f6caed4caa',\n",
       " '210d070b-50b2-4f3d-b145-b29722bbd688',\n",
       " '4f43ae78-a411-4675-93d7-7ae80aebfbb1',\n",
       " '489be9ac-7ea0-4b3e-9008-02227941dad1',\n",
       " '1546875c-7f78-4e44-b29b-040d4fa6642f',\n",
       " '70577905-d911-4d61-b6cb-6988ad9fba0d',\n",
       " 'e6179db7-2e1b-49cd-aac0-3bc03910bafe',\n",
       " 'fdda114b-0b69-4763-9076-98cdae644bdd',\n",
       " '55600380-05fc-4083-a3d6-157ca277ffd4',\n",
       " '650162c3-0aca-47d8-b772-aee308ebde36',\n",
       " '8891803d-58a5-427e-b8bf-fee70b4306de',\n",
       " 'b14b3398-45ee-45f6-8973-08e268acb70b',\n",
       " '1ce5ea3d-c40a-4621-aff2-851f91a77803',\n",
       " '6a7d0c67-b09b-4ecf-affe-4d857808bd95',\n",
       " 'fcaf0377-0a9f-4058-a4b2-d313f1f0f537',\n",
       " '868be6ac-9348-4e0e-8db3-dfdbbdcea3da',\n",
       " '993bae27-163f-4703-9f13-71a0e2ff25b7',\n",
       " 'f7a88372-8dff-4eb4-b7a4-e7bd496cbce7',\n",
       " 'c15f4f5d-09b5-485f-9585-311ca83452ad',\n",
       " '894fc4e7-fc92-4f1b-97af-93b4467a04b2',\n",
       " 'cd59a42a-4a27-4e34-b563-5ce52695517c',\n",
       " '285fe892-818e-4b8c-9c18-d64596ccdcad',\n",
       " '693bd007-44b0-4037-96a6-f67f6c3971c6',\n",
       " '81550d56-e4d0-4051-87bc-8d0d4a3ddd73',\n",
       " '68e2e2b2-4565-41a8-928f-78b362246da8',\n",
       " 'ee52c188-2b91-45bb-8f66-ef7659d6f7dd',\n",
       " 'c83741c5-4ce4-4b32-bd79-5bec4fc816b5',\n",
       " 'cb098e09-d81c-41ab-82de-decbe06235ca',\n",
       " 'f7824f2a-9414-4dfd-be2f-b6591265806b',\n",
       " 'b20ae5a5-5b23-4280-b50e-59543bf75320',\n",
       " '6060a81f-f3a2-41d0-86d0-c9a7ed418667',\n",
       " 'fd232333-3033-48c6-862a-b7b51bba0d5d',\n",
       " '457a5637-b067-4b71-8ab4-523f2a9dde19',\n",
       " '2056b4d7-190b-419a-a6e1-bf417033494e',\n",
       " '3a6b2c64-240f-4002-9f4e-53934eca73d2',\n",
       " '088aefe2-e92f-44f7-848c-2f14c09bf7e0',\n",
       " '1063c76a-7ed0-4f88-a6a9-06faa31c0f1d',\n",
       " 'c13e9e32-225a-4a53-88cd-64a13ef294d7',\n",
       " '33561daf-0e8d-4364-98fe-29a178a44ce3',\n",
       " '61204a0e-8327-47a6-a1e7-afc6f7d288f8',\n",
       " 'fbd0d7bb-a7b5-44b0-a94b-6e52446a94b1',\n",
       " 'f42bf1a2-acdb-4532-a8e1-9e93fdca3829',\n",
       " '29c825dc-2890-4bd4-a502-417acfa1a455',\n",
       " 'd8835bc6-429d-4d26-97c4-e249856a96b8',\n",
       " 'eb40cdc5-30bb-47b4-8b0b-bf847124ccaa',\n",
       " '64f1e150-91f7-4254-99c7-bfbac25b24f1',\n",
       " '39f97811-d104-4df8-be17-30fd2df0be7d',\n",
       " 'adab18f7-aede-451b-8c38-c6d074f75957',\n",
       " '173088c1-7a77-4ad8-8237-51409ac22db6',\n",
       " '778e98a4-8cda-4070-a16b-7dc7ed80a971',\n",
       " '311804e1-7ae0-4828-a0b5-5b2cb07b3e45',\n",
       " '7ddf35a6-7a42-40ad-acee-f4379a8e5b91',\n",
       " '490ae6ad-2a64-4509-ad66-75e0ec6502e2',\n",
       " '1c9d6e1b-e01f-4b12-807c-86308d182222',\n",
       " '4d7bfc91-682f-4761-83d2-1f3df02d2add',\n",
       " '0ca60e2f-b522-4993-9d6e-590449635b58',\n",
       " '2bd55105-7787-472c-b7ae-768d19d57ac3',\n",
       " '82336d56-f50c-4634-89c2-da49154ea596',\n",
       " '43982bec-bd51-4f8d-b9f7-25b1dd5ab118',\n",
       " '29065dd3-6bcf-4e2a-96d6-5dbba27625c2',\n",
       " '188a6e82-ee92-40d8-97fa-9156ea2662c7',\n",
       " '91a08bd3-41b5-455b-b1ef-6edec123f343',\n",
       " '556b3acc-026e-4fbd-b3fa-f52d01bfe372',\n",
       " 'bde2aad0-642f-449d-8629-5bf6d2b9ea3d',\n",
       " '210deb2e-45df-4601-8127-2c14f41e9979',\n",
       " '49aa1668-9d66-4771-b3a6-778b68730480',\n",
       " 'f766eae1-8f80-4adc-bc0c-06a3bc7b2bdb',\n",
       " '430dcccc-8d7c-45f8-9160-637d6874b180',\n",
       " '09f3be0f-1b53-4cb1-b2d5-a7fec44c1df6',\n",
       " 'e3ce57e3-04cb-4bf2-b9ff-b8e0ffd9a29a',\n",
       " '426db498-a9cb-489d-b486-c37121f25f01',\n",
       " '026c7cad-c69c-4020-b968-c4b2fe1ea178',\n",
       " '65fbcb6f-7993-4434-b6ae-ea0b385cd94b',\n",
       " 'b33f4e05-5a2e-4a28-9e8a-3dad3cd0af8f',\n",
       " '83ebc5b7-c9c2-4e67-96a1-b9202cbcced3',\n",
       " 'de3196ab-f52f-40d4-af3e-0e471c18e4d3',\n",
       " 'aeb89d75-6d5e-417e-b42c-91a30fd59ed3',\n",
       " '07ec926f-cd96-4c35-b428-86e7d1a2ab37',\n",
       " '33f36213-cba4-4fc5-a463-5a7488b59112',\n",
       " '64c4abd2-70fe-4365-9ce7-60f504c46a5f',\n",
       " '470db477-4ed4-4495-946f-0916ee1fa154',\n",
       " 'e1a231d3-bdd7-4377-9ccf-f222889b01cd',\n",
       " '99a20fa8-5a99-4205-8557-2d20e2ae138f',\n",
       " 'a98bf04e-dcb7-44f7-92cd-b73dae79c883',\n",
       " '3b1edc29-031b-4bce-a3b2-4ac9139e14a4',\n",
       " 'e0f3f7a3-c8d2-4592-b4d9-84e1eab71c01',\n",
       " '258f2ed5-5830-46a1-a607-4720a98f2cfa',\n",
       " '0be332ab-8d1b-43a8-9efa-bce40b1af8c0',\n",
       " 'efa3ad1e-d35f-41e6-8427-591c37bce5f6',\n",
       " '5df2d8e1-2601-48fb-b3e7-4ba5d8d14230',\n",
       " '8df3ce99-6d2d-4b9c-90b0-5ccbd0beec27',\n",
       " '1a35ff5a-0910-4106-89bf-319efe62c089',\n",
       " '6f46337a-d143-460e-9bfa-7fcb97ed815b',\n",
       " '0cd18d14-4c40-4076-bee7-abbdf22f41b3',\n",
       " '904986a9-d4d0-48da-9d99-6f3b1070e889',\n",
       " '6ebd09f4-e600-4095-ac9a-439171fa1e57',\n",
       " '7ca6f9ad-955c-4fd7-9f3b-e57640a507f9',\n",
       " '79c5d53b-9637-4f7a-b083-9558d354b888',\n",
       " '4fd0ba06-7dda-4dd0-9d79-55d54013bb68',\n",
       " '0430be6b-6a82-42a0-81d8-5f37c490926f',\n",
       " 'b41c5934-8a10-4880-bf4a-a50643f69aff',\n",
       " '08f680ba-3aca-4a37-bc0c-fee39481595a',\n",
       " '66bc608f-6301-4a99-ab28-4330093a176e',\n",
       " '1b755cbc-a076-4119-acb0-0a37c11606e6',\n",
       " 'd4246e98-cfbb-4aaf-9c0f-370789a1dc65',\n",
       " '8eb19788-2aa1-4cb0-b8cd-a279e967ca90',\n",
       " '01eb8b1e-2399-4bde-828a-d8f78ea95933',\n",
       " '95718d41-f2c0-4f09-a10f-1616418f9370',\n",
       " 'ecff4022-3d66-4a65-8723-94928595fb25',\n",
       " '2cbb92bb-3ce7-420c-a16f-e6f070767984',\n",
       " '168971ae-bf2c-45a1-aec7-cc3696ab0dc1',\n",
       " 'a8b32ec0-34f3-4231-b464-b50994d18d1d',\n",
       " '87713c7d-58a1-4396-8b77-f3191cddf245',\n",
       " 'b95bf7e7-75b0-4cea-890f-69f702867847',\n",
       " '9b62dc47-20a9-48d4-aa20-43ddfa4a6a52',\n",
       " '689bcef3-1e8e-4a22-8e35-c0007a6848a9',\n",
       " 'ebe3d54f-45ed-4d3f-bdab-f7ce79edcdd4',\n",
       " '22077c31-b0b1-421f-abd4-26f3b2cb8610',\n",
       " 'cbfaad36-b0a0-4bf7-b6ce-4989ebc76e13',\n",
       " 'acb43e0a-4793-4003-93f4-e4af067017b8',\n",
       " '2a98783f-d75f-4304-9093-d13e85d75e20',\n",
       " '35af6880-8fe7-45b3-b1e9-b22fe7c15112',\n",
       " 'de182541-3f72-4e74-8962-2cb5499ddc8e',\n",
       " 'e7e13a49-590a-4606-9555-cbf84502551b',\n",
       " '47b06ba0-04b7-41b1-aac4-83e04f0bd8a1',\n",
       " '8da48539-17d2-4deb-99c4-fcb8e3dc546f',\n",
       " 'f8fbb732-97c9-4d71-9939-9776f03db78d',\n",
       " '92933e32-1c79-458b-a4aa-c78c2f0ada02',\n",
       " 'a7c2606a-ef14-4214-a335-9627db9c4104',\n",
       " 'd961967a-ab9d-4c8b-bf49-4acf4388a5db',\n",
       " '7f8f34af-a45b-422a-9e9f-408e115aa0a6',\n",
       " '3b1d3ff3-2416-4de1-b5af-dbf6be2d4b67',\n",
       " 'fa86ef16-ea68-4e7c-8cb2-59cd8c7a804d',\n",
       " 'f744a10b-258e-4912-adb1-5a1e87b32bad',\n",
       " '2e10dd15-aba2-44dc-9e04-107982a8e7af',\n",
       " 'bc0bf929-950c-4030-b76d-3fd2eb7d5ef9',\n",
       " '57bab9ab-9339-451c-ab38-510201d4fbe5',\n",
       " '7880d315-1f3a-4197-b437-2afb86c9d7ca',\n",
       " 'bc971565-1f4d-4aec-938f-6076b922a0b6',\n",
       " 'a9eba29e-aa4b-4dc9-986a-cbe4c0bc4209',\n",
       " 'f7549c6f-1fee-4363-9799-bc912e03bcb2',\n",
       " '703ea141-add1-4560-8afc-73509388836b',\n",
       " '8a95f046-793d-4abb-819d-ad0690bf6b83',\n",
       " 'c9346f4e-174a-4d46-8b1c-a91dd2938c06',\n",
       " '9429223f-c473-449c-93f9-7faa0cd89617',\n",
       " '65be542f-dbfc-425a-90f3-49de490f10c1',\n",
       " '951c925d-2d9e-4ea2-bbe6-0b6bb8a2a964',\n",
       " '5f900dea-6f3a-43e1-98f6-da674de7f66a',\n",
       " '6aed3c28-6384-41d6-a414-d57bc9cea3c4',\n",
       " 'cbe2033b-993f-464f-a086-e967339d7c1a',\n",
       " 'cb5079ec-eb82-4256-8901-a9ee45c180d7',\n",
       " '05a703d6-7640-4ea1-a167-8db2d5f8d4ab',\n",
       " '5f0f6e1f-9b41-4ddf-acf8-affa4c708354',\n",
       " 'ef6c43b7-dcde-40aa-bfe3-746965f78773',\n",
       " '19453e5a-b04f-407b-b00e-749b821021f2',\n",
       " '5a3e742f-d8b7-4ac3-a49f-0030bae0329f',\n",
       " '59307f8a-64e4-4e36-bc9e-a9187b2bf6af',\n",
       " '25869f77-efdd-4ebe-8c1f-d5d59b851fc9',\n",
       " '763154e2-6536-45e7-967a-c0d07b2825d4',\n",
       " '0a3bf774-7e0d-45ce-b3e4-67884fd232f1',\n",
       " '62c95bb1-d95d-485e-a277-6bc534d5872f',\n",
       " '997d20ea-00af-4699-9c34-6287dad4226b',\n",
       " 'ee24eebc-e2e1-4af6-b806-5e75a497bb83',\n",
       " 'b7d506f5-9e78-4f8d-8bca-eac88d0062fd',\n",
       " 'af529422-d51e-4c0f-8cfb-fc6a7e5bb58b',\n",
       " 'bbef67a8-7b6b-4382-8127-7ed2471376c0',\n",
       " '18ecec06-64e8-4c2c-8043-3fd87ea23d40',\n",
       " '2bc7ce8c-1ac6-4e6f-8252-e2e4ed8ddfed',\n",
       " 'cb1b6de8-9164-4481-8e9a-1d2fbb132db2',\n",
       " 'cfd861f6-39c9-414f-8d9f-8421068ca4ad',\n",
       " 'bc0e8721-19fa-4f44-970f-bb933582b6f7',\n",
       " '0a44a0a1-57ed-496c-8768-101c0837ab95',\n",
       " '8d1d8fcd-7677-4c78-8285-ebca026a0e02',\n",
       " 'c3b97d30-5a10-4456-9604-08c8482e8eb0',\n",
       " 'd68724d3-69c4-421b-8818-f2409229a3f2',\n",
       " 'a95adcf3-0890-4364-826d-b722a47ea913',\n",
       " 'b216c8e5-cf90-40c5-a3a5-b04775831345',\n",
       " 'c9812d2c-5889-4998-9640-25bf30a0c86f',\n",
       " '36734c7a-4c1e-4fc2-a625-f4100dfc677d',\n",
       " '08d3ad89-049f-4ee0-a5f2-f57918e774b8',\n",
       " 'c403140f-b51b-489e-8dc5-e40d2bd80f41',\n",
       " '6585bef6-1993-47b8-8042-ca0733a99b43',\n",
       " 'c10c4e68-8aed-4c89-add1-bb4159789762',\n",
       " '8f5e3b5b-1138-4c4a-9c36-699ffa4eebfd',\n",
       " '076dcdac-1fb1-4992-9eee-4bb2536dc32d',\n",
       " 'c5e775fc-9e10-48e2-9ff8-ca701f35fc0f',\n",
       " '1b229b34-e3a6-4e63-b3d7-50cdf258810d',\n",
       " '7e2aab1f-d131-434d-a381-56163c522cd7',\n",
       " '35d5f2d8-d477-4708-a47a-48dabd07c7ec',\n",
       " '6d4740f2-be7c-4a64-b8e4-156d798e3fa7',\n",
       " 'abf7c4f6-a225-46ca-9a41-af74e36a851e',\n",
       " '61b0b342-2c71-4a3e-bb28-3e7ff68c4df6',\n",
       " 'a1c98c4c-6a66-42ae-bb3a-5b817a85f455',\n",
       " '1debf195-2288-44f3-b36c-2a9926573b03',\n",
       " '8b610176-dc06-40ac-8fc8-a98341e7651b',\n",
       " '795d1db0-8d09-4678-9f5a-03a06c6ce20b',\n",
       " 'aaa44856-b326-407a-b124-f7258c77ce8a',\n",
       " '51588900-f4f4-4fd5-a1af-95e0210d6523',\n",
       " '41487feb-d2a1-45ef-a48d-1ff641ee4636',\n",
       " '45889ff5-d7a4-459e-a1ee-80d6eef04e76',\n",
       " 'd707a57e-3f52-4678-af17-62c9e9b92caf',\n",
       " '6ac647c2-a793-41dd-b0be-0e9e1f7bc5f2',\n",
       " 'b7a49726-e694-4876-b848-a8fe77e7e437',\n",
       " '6b8d6c57-f5c3-45e4-a2ee-13b323de44a2',\n",
       " 'decf1210-07d2-4782-adac-43051b68ce13',\n",
       " '3d8ecd0d-1d91-4a69-a519-92ded8bc4479',\n",
       " '85da718c-b839-441f-bf7b-6056c3aa3d86',\n",
       " '07d9cfa4-ff5a-4ce6-8376-7b729a69bf31',\n",
       " '8cdf97e9-5df4-4d95-baa0-08b0af638688',\n",
       " 'a938d50e-c677-4050-a9de-67a4d8ed1797',\n",
       " '1c13f154-7f44-41e7-8a94-4a8a9bffcf9b',\n",
       " '5ccafddf-7435-493a-9390-ad639010c6c2',\n",
       " '52787a5c-8102-4eb3-b988-746f117906e0',\n",
       " '16caced3-2b68-4d03-9b69-2a8cb46651f5',\n",
       " '9c1dbe54-fd3d-4b5f-9929-cd41f7c3111c',\n",
       " '32fa7d42-c280-40a4-9d50-c2d28a0e4390',\n",
       " '21d61fd3-ad5d-4bdf-9159-f33cf0638da1',\n",
       " 'afbcdff0-63b1-410e-aa5c-c2b303879e43',\n",
       " 'a93b6357-9324-4e50-a02d-8d13a0427ba7',\n",
       " 'caeb6633-18de-4f5a-9b07-b9aa01a715e6',\n",
       " 'fb6fa468-fcc7-4872-b9b2-49369c84b816',\n",
       " '28866d2f-1848-45c5-aeb7-bae6eb2320a0',\n",
       " 'ce02d603-efa4-4935-a21a-fb1b9adc5633',\n",
       " 'f0b99acb-1934-46ae-8c0c-3d6295a39f95',\n",
       " 'fa939e79-11f7-4eca-9aac-e1a867a1458c',\n",
       " '2413391c-ee51-4541-92d6-cefb5a9fb2a5',\n",
       " 'c35d6d70-08b9-49a4-9b7d-85e41cddf79b',\n",
       " '41b263e2-a0ff-48f9-b41b-7118c518344a',\n",
       " 'aa9df47b-aa1f-44ff-a4d3-7fe843951a32',\n",
       " '840d5eac-d330-4c6b-bd94-ea5be8c38fa5',\n",
       " 'b6bc94c8-51ca-4ad1-8277-afd0d72ef5fa',\n",
       " '7acb3722-9372-4f02-9fdf-a48c952e099b',\n",
       " '440f0033-6b9b-4d29-a9e7-5fbf8b7a4fff',\n",
       " '11c22842-151a-4c57-81d4-85436ac1fc3e',\n",
       " '55d4bc32-db19-4cac-a104-c3fca9cf55f8',\n",
       " 'feee2982-7a7a-439b-bafb-3a9ec6d6f1c5',\n",
       " 'e05fb9cd-b06d-45a2-9c65-35208114c409',\n",
       " '2352145c-2e52-4ada-ad79-3baa34ac68b8',\n",
       " '3ca1149b-06e9-44ba-8d04-8c06faf62aa7',\n",
       " '8dce0e87-bef9-42ac-b241-38eea127d14d',\n",
       " '0f97db9f-8a4f-453d-b37a-c687fc8f790a',\n",
       " 'f10b7dec-a1f7-4c29-a7ab-68bdc317ed34',\n",
       " '2aab66eb-c74c-44a8-bf79-958e8f232cb5',\n",
       " '64d04bd7-1158-4c27-8f23-d52ef991870c',\n",
       " 'be435d54-e0d4-4e7a-9109-d1ca07b0188c',\n",
       " 'ad6e3e1f-9699-43d1-8cac-59a5324f2544',\n",
       " '46f9e733-2762-457d-a836-bf804d2e09aa',\n",
       " '0db8fae6-23c5-40f7-869c-8d088673c44d',\n",
       " '0088dbd8-e815-4887-bfa7-2a3e6e68adb4',\n",
       " '5720dff2-2b4c-4b62-a7f5-9f0f01e1bb69',\n",
       " 'e3c502ab-ce8c-4d4a-b46e-4360e1d0d082',\n",
       " 'fef4ff09-9abc-4ff7-8d32-e69e760e27ea',\n",
       " 'c0541550-ad76-46d5-9d53-964b7d114e7f']"
      ]
     },
     "execution_count": 39,
     "metadata": {},
     "output_type": "execute_result"
    }
   ],
   "source": [
    "# 1. Extract documents and metadatas\n",
    "documents = [item[\"sentence_chunk\"] for item in pages_and_chunks_over_min_token_len]\n",
    "metadatas = [{\"page_number\": item[\"page_number\"], \"pdf_name\": item[\"pdf_name\"]} for item in pages_and_chunks_over_min_token_len]\n",
    "\n",
    "# 2. Add documents to the vector store\n",
    "vector_store.add_texts(texts=documents, metadatas=metadatas)"
   ]
  },
  {
   "cell_type": "markdown",
   "metadata": {
    "id": "jpksJFHgl067"
   },
   "source": [
    "## 2. RAG - Search and Answer\n",
    "\n",
    "RAG stands for Retrieval Augmented Generation.\n",
    "\n",
    "Which is another way of saying \"given a query, search for relevant resources and answer based on those resources\"."
   ]
  },
  {
   "cell_type": "markdown",
   "metadata": {},
   "source": [
    "### Load the Vector DB"
   ]
  },
  {
   "cell_type": "code",
   "execution_count": 1,
   "metadata": {},
   "outputs": [],
   "source": [
    "# Requires !pip install langchain-huggingface langchain-chroma\n",
    "from langchain_huggingface import HuggingFaceEmbeddings\n",
    "\n",
    "embeddings = HuggingFaceEmbeddings(\n",
    "    model_name=\"sentence-transformers/all-mpnet-base-v2\",\n",
    "    model_kwargs={'device': 'cuda'}  # Tell the model to use the CUDA device\n",
    ")\n",
    "\n",
    "from langchain_chroma import Chroma\n",
    "persist_directory = \"./chroma_langchain_db\"\n",
    "vector_store = Chroma(\n",
    "    collection_name=\"collection\",\n",
    "    embedding_function=embeddings,\n",
    "    persist_directory=persist_directory,  # Where to save data locally, remove if not necessary\n",
    ")\n"
   ]
  },
  {
   "cell_type": "markdown",
   "metadata": {},
   "source": [
    "Test the Vector DB out!"
   ]
  },
  {
   "cell_type": "code",
   "execution_count": 2,
   "metadata": {},
   "outputs": [
    {
     "name": "stdout",
     "output_type": "stream",
     "text": [
      "[Document(id='740e9894-1fd6-4696-ae50-b1d92eb7c88c', metadata={'pdf_name': 'Hilti_BindingCorporateRules.pdf', 'page_number': 16}, page_content='Chief Privacy Officer (“CPO”): CPO means the Hilti Chief Privacy Officer. The CPO is respon- sible for reviewing and monitoring Hilti’s data protection  compliance and reporting to the highest level of management. Controller: Controller means the natural or legal person, public  authority, agency, or other body which, alone or jointly with others, determines the purposes and means of the  processing of Personal Data. Such Controller can be Hilti HQ, a Hilti Entity, or a Third Party.'), Document(id='f6995850-53df-4d39-beae-6876d75a1189', metadata={'page_number': 3, 'pdf_name': 'Hilti_BindingCorporateRules.pdf'}, page_content='b.\\t Roles and responsibilities Chief Privacy Officer: Hilti has appointed a Chief Privacy Officer (“CPO”) responsible for monitoring compliance with data protection laws and regulations and easily accessible from each Hilti Entity. CPO is the designated Data Protection Officer for Hilti, and its contact details are communicated to the Liechtenstein Data Protection Authority as per GDPR Article 37. The CPO has been appointed based on his/her expert knowledge in the field of data protection and data privacy, as well as overall years of experience which attest their professional qualities required to fulfill the tasks of a CPO. The required skills are: •\\t Expertise and in-depth understanding of national, EEA, global data protection and privacy laws, regulations and practices •\\t Advanced knowledge of the business sector and Hilti internal organization EXECUTIVE BOARD CHIEF PRIVACY OFFICER GLOBAL DATA PROTECTION REGIONAL DATA PROTECTION OFFICER PROJECT OWNER LOCAL DATA PROTECTION OFFICER LOCAL PROCESS OWNER'), Document(id='465949a9-feae-4507-a10e-d246a3f15ecb', metadata={'pdf_name': 'Hilti_BindingCorporateRules.pdf', 'page_number': 4}, page_content='www.hilti.group 4 •\\t Good understanding of processing activities and operations carried out by Hilti •\\t Integrity and high professional ethics •\\t Understanding of GDPR processes and principles •\\t Outstanding communication skills in order to train and work with various teams and business lines •\\t Ability to guarantee secrecy and high confidentiality during the performance of their duties The role of CPO has been strictly assessed and Hilti ensures the independence of the CPO role which is free from any conflict of interest within Hilti.'), Document(id='a8731278-fb09-401c-ad23-5feff2732e3c', metadata={'page_number': 4, 'pdf_name': 'Hilti_BindingCorporateRules.pdf'}, page_content='The CPO operates from Hilti’s Headquarters and reports to the highest management level. The CPO undertakes to fulfill the following tasks: •\\t Regularly or where necessary, informs and advises the Executive Board •\\t Monitors compliance with data protection regulations and internal policies, including to protect Personal Data, assign responsibilities, raise awareness, and ensure the training of staff involved in processing operations and related audits •\\t \\tProvides advice where requested with regards to Data Protection Impact Assessments and monitors their performance •\\t \\tCooperates with the Supervisory Authorities •\\t \\tActs as a contact point for the Supervisory Authorities on any issue relating to processing of Personal Data, including prior consultation where required and to consult where appropriate with regard to any other matter •\\t \\tProvides guidance by evaluating the risks associated with all data processing activities including but not limited to the scope, nature, context, and purposes for the processing •\\t \\tMonitors and annually reports on compliance at a global level to the executive board of directors •\\t \\tEnsures the integration of data protection in overall compliance management, this includes but is not limited to the product and services development process as well as continued process reviews and enhancements •\\t \\tSupervises the Global Team •\\t \\tInforms the Executive Board or highest management level of any question or concern arising during the performance of his/her duties •\\t \\tDecides on or requests audits on an ad hoc basis Global Team: The Global Team (“Global Team”) is com- posed of privacy professionals specializing in legal and technical implementation of data protection matters. The Global Team directly reports to the CPO and is involved at the earliest stage of Hilti operations to assess data protection. The Global Team tasks are the following: •\\t Providing CPO and business lines with legal and technical assessments with regards to data protection •\\t \\tDrafting internal policies and processes •\\t \\tProviding business lines with guidance •\\t \\tConducting DPIA •\\t \\tPromoting data protection by Design and by Default in the whole organization •\\t \\tRegularly reviewing organization’s governance in regard to data protection •\\t \\tProviding regular guidance for regional and local DPOs and monitoring performance at a regional and local level •\\t \\tRaising awareness in the organization •\\t \\tProviding Regional and Local DPOs with training •\\t \\tSupporting global corporate audit teams in the performance of audit program •\\t \\tUpdating the record of processing activities at a global level on behalf of the Controller (Hilti Entity or Hilti HQ) •\\t \\tDrafting and reviewing data processing agreements for global contracts •\\t \\tHandling Data Subject requests including assessment of Data Subject Rights The Global Team works hand-in-hand with the CPO, performs in an independent manner and undertakes strict secrecy and confidentiality during the course of their duties.'), Document(id='c63c986a-d0ba-4ce5-952b-556aec531416', metadata={'pdf_name': 'Hilti_BindingCorporateRules.pdf', 'page_number': 3}, page_content='Hilti employees also have by default an obligation of secrecy which applies to the processing of Personal Data. Hilti applies the highest data protection standards and pro- vides Third-Party beneficiary rights to Data Subjects. These rights are enforceable no matter where Personal Data is pro- cessed by Hilti. Where additional rights can be granted to Data Subjects for example as per national data protection laws and regulations, Hilti undertakes to respond to such right.'), Document(id='034ca3ae-9626-422c-a547-726bfa656d63', metadata={'page_number': 16, 'pdf_name': 'Hilti_BindingCorporateRules.pdf'}, page_content='Hilti means for the purpose of the herewith BCR Hilti Entities and Hilti HQ which are bound by BCR. Hilti Headquarters (“Hilti HQ”): Hilti HQ means Hilti Corporation, with its registered seat in Liechtenstein, exercising its statutory rights related to Hilti entities establishing data processing governance for Hilti entities. Hilti HQ is responsible for non-EEA Hilti entities and ensures for enforcing BCR through Hilti. Human Resources Privacy Notice  (“HR PRIVACY NOTICE”): HR Privacy Notice means an internal Hilti document providing Hilti employees with specific details on the processing of Personal Data by Hilti, including with regards to sensitive information.'), Document(id='1016c62c-965c-4272-a700-90c20300a1ef', metadata={'page_number': 10, 'pdf_name': 'Hilti_BindingCorporateRules.pdf'}, page_content='www.hilti.group 10 7. ACCOUNTABILITY Hilti undertakes to act in accordance with data protection principles. Therefore, Hilti HQ is bound by the herewith BCR and takes responsibility for developing processes and demonstrating compliance with the BCR.'), Document(id='39fb8961-b305-429e-bfd3-5d574f8766e1', metadata={'page_number': 3, 'pdf_name': 'Hilti_BindingCorporateRules.pdf'}, page_content='www.hilti.group 3 1. INTRODUCTION Hilti has a reputation for providing quality products and excellent customer service but is also committed to pro- tecting customer and employee privacy in the offline and online sphere. Customer and employee privacy is important to Hilti; therefore, it has established a foundation for the protection of all Personal Data processed by all Hilti Entities to ensure a common ground applicable worldwide. Hilti provides global procedures and program which define and set forth how it processes Personal Data globally.'), Document(id='68966e4e-c62a-485f-9eed-887b00c2ae4f', metadata={'pdf_name': 'Hilti_BindingCorporateRules.pdf', 'page_number': 8}, page_content='TRANSPARENCY AND EASY ACCESS TO\\t\\t BCR Hilti provides transparent communication to Data Sub- jects including by means of an accurate, up-to-date and detailed privacy notice covering all areas processing Per- sonal Data as well as the herewith BCR and a detailed HR privacy notice for Hilti employees. Hilti BCR are published and easily accessible on a dedicated BCR webpage. Hilti BCR are made publicly available and contain at least the following detailed sections in full: •\\t Definitions of the terms used in BCR (Appendix 1) •\\t Hilti Data protection office (BCR Section 3) •\\t Scope of BCR including material and geographical scope (BCR Section 2 and Appendix 3) •\\t Liability process and Hilti HQ burden of proof (BCR Section 9.g) •\\t Data Subject rights including Third-Party beneficiary rights and Data Subject request, complaint, and redress procedure (BCR Section 9) •\\t Applicable Data protection principles for the processing of Personal Data (BCR Section 5) •\\t Transparency and easy access to BCR (BCR Section 6) •\\t Cooperation with the Supervisory Authorities and national laws (BCR Section 10) •\\t Process for updating the BCR (BCR Section 11) Other sections of the BCR will also be provided to Data  Subjects in an abbreviated form.'), Document(id='21f006f4-056f-4716-9f53-62ea3e23b0d1', metadata={'page_number': 14, 'pdf_name': 'Hilti_BindingCorporateRules.pdf'}, page_content='As a consequence, any Hilti Entity undertakes to comply with the applicable national or local provisions whenever these have additional and protective effects for Data Sub- jects or provide specific provisions applicable in the country. Each Hilti Entity is responsible for taking additional actions where deemed necessary in accordance with the national laws in which it is based. Such provisions include: •\\t Right for Data Subjects to decide on the fate of their Personal Data after death including exercising of rights by heirs or designated persons •\\t Processing of Personal Data in the field of employment, social security, or social protection law •\\t Application of Data Subject rights •\\t Conducting Data Protection Impact Assessments (DPIA) in accordance with specific local requirements •\\t Exercise DPO tasks in accordance with local requirements (e.g., secrecy obligation) Hilti Entities communicate to and provide the Regional Data Protection Officer, the Global Team and CPO with a copy of such local or national laws and applicable requirements. Where a Hilti Entity is taking actions, such as developing local processes or policies, it must provide the Global Team and CPO with a copy and details of such procedure or policy.'), Document(id='c0b0ef25-3e34-4aaa-97da-3393d1c8d3f3', metadata={'pdf_name': 'Hilti_BindingCorporateRules.pdf', 'page_number': 7}, page_content='Hilti has established a Personal Data Breach process to anticipate incidents. This process allows Hilti to ensure that the risks or impacts for Data Subject rights and freedoms are mitigated as much as possible or entirely prevented. Therefore, as soon as becoming aware of a Personal Data Breach, Hilti Entities have a duty to report it to the Hilti HQ without undue delay. Hilti HQ will take applicable preventive measures and ensure that the relevant data protection, IT and security functions and bodies are involved to conduct investigations, mitigation measures and report adequately on the matter.'), Document(id='d643f55d-ca19-49eb-8f0c-2b91e0d5e8c5', metadata={'pdf_name': 'Hilti_BindingCorporateRules.pdf', 'page_number': 19}, page_content='APPENDIX 3 – BINDING CORPORATE RULES MATERIAL SCOPE This Appendix details the processing of Personal Data which takes place within Hilti:. Purpose of the processing Categories of Data Subjects Categories of  Personal Data Third country destinations •\\t To provide, maintain, protect, and improve our services, web- sites, and apps, to develop new ones, and to protect Hilti and our customers. • Order and Logistics management •\\t Tool management •\\t Procurement activ- ities •\\t Customers •\\t Contact persons •\\t Suppliers •\\t Contact Details •\\t Payment Information •\\t Marketing Information •\\t Order Information •\\t Authentication infor- mation •\\t Hilti maintains central data repositories exclusively within EU based systems or EU cloud solutions tenants for all customer data.'), Document(id='39d0e6b0-734c-42e6-9558-b74646572f49', metadata={'page_number': 16, 'pdf_name': 'Hilti_BindingCorporateRules.pdf'}, page_content='Hilti Entity: Hilti Entity means a Hilti Entity acting as Controller (including Hilti HQ as per the definition hereafter) or Processor bound by the herewith BCR by signing the joint agreement. The list of Hilti Entities is available by clicking here. Hilti Group (“Hilti”): Hilti means a group of undertakings comprised of a  controlling undertaking and its controlled undertakings, whereby the controlling undertaking exerts a dominant influ- ence over the other undertakings by virtue, for example, of ownership, financial participation or the rules which  govern it or the power to have Personal Data protection rules implemented. An undertaking which controls the processing of Personal Data in undertakings affiliated to it should be regarded, together with those undertakings, as a group of undertakings.'), Document(id='52e8eca2-19bc-43d3-87f0-68431bee4dae', metadata={'pdf_name': 'Hilti_BindingCorporateRules.pdf', 'page_number': 6}, page_content='Hilti will either: •\\t Dispose of Personal Data in a secure manner and in accordance with its TOMs and security guidelines; or •\\t Anonymize Personal Data in a manner by which Data Subjects cannot be identified – where Hilti requires to retain Personal Data in the future e. Personal Data security and Data Processing\\t\\t Agreements Technical And Organizational Measures (TOMs) This principle means that Personal Data is processed in a manner that ensures appropriate TOMs, including pro- tection against unauthorised or unlawful processing and against accidental loss, destruction or damage, using appropriate TOMs. Hilti is dedicated to ensuring to the best of its capabilities the security of data without hindering their use within the normal conduct of business with Data Subjects or the expe- rience of Data Subjects with Hilti’s services. As a result, Hilti is striving to safeguard Personal Data against risks that may result from improper use, especially with regards to unau- thorised or unlawful processing and against accidental loss, destruction or alteration of Personal Data. Hilti is enforcing various organizational, physical and technical security measures along with protocols, controls, documented guidance, good practices, processes and policies.'), Document(id='5a2d9cda-7bec-4495-baad-acda51bffb2a', metadata={'pdf_name': 'Hilti_BindingCorporateRules.pdf', 'page_number': 14}, page_content='www.hilti.group 14 best efforts to obtain the right to waive this prohibition in order to communicate as much information as it can and as soon as possible and be able to demonstrate that it did so. If despite using its best efforts a Hilti Entity or Hilti HQ is unable to notify the competent Supervisory Authority, it undertakes to at least annually provide the Supervisory  Authority with information related to the requests received by the national security state bodies or authorities and at least the information listed above. The transfers of Personal Data from a Hilti Entity to national security state bodies or authorities shall never be done in an excessive, disproportionate, and indiscriminate manner which would go beyond what is necessary in a democratic society. c. Relationship between national laws and BCR Hilti bound by the BCR implements very protective measures for the rights and freedoms of Data Subjects.'), Document(id='0d7d8227-940d-47f5-b681-4bc6d1c90313', metadata={'page_number': 6, 'pdf_name': 'Hilti_BindingCorporateRules.pdf'}, page_content='Hilti must only collect and process Personal Data necessary to achieve the purposes defined beforehand. Hilti will inform Data Subjects of such purpose to give them the possibility to note that what Hilti collects is relevant and strictly neces- sary (see BCR Section 6).'), Document(id='89c848e6-1196-441f-b125-ab4b28c5ee77', metadata={'page_number': 13, 'pdf_name': 'Hilti_BindingCorporateRules.pdf'}, page_content='Right to object: Where a Data Subject exercises their right to object to further processing of Personal Data, based on grounds relating to their particular situation, including profiling, Hilti will no longer process their Personal Data unless Hilti demonstrates compelling legitimate grounds for the pro- cessing which override the interests, rights and freedoms of the Data Subject or for the establishment, exercise or defense of legal claims. Data Subjects are informed of their right to object in the Hilti communications and can easily object at any time to processing of Personal Data for direct marketing purposes by accessing the Hilti Preference Cen- ter through the Hilti Online platform. Outcome of automated decisions: Where Data Subject has requested an investigation with regards to an automated decision, Hilti will provide Data Subject with an explanation of the decision which has been made, and where applicable the possibility to discuss and contest the outcome of this decision with a responsible Hilti employee.'), Document(id='f71c2a29-f34a-4522-8492-fd3a4ff72978', metadata={'page_number': 13, 'pdf_name': 'Hilti_BindingCorporateRules.pdf'}, page_content='COOPERATION WITH THE\\t SUPERVISORY AUTHORITIES AND\\t NATIONAL LAWS a. Purpose and cooperation principle Hilti has the duty to cooperate with the Supervisory Authorities to ensure proper exchange of information and Supervisory Authorities’ shall undertake inspection of Hilti Entities where applicable. Hilti shall abide by the data protection laws applicable and abide with the Supervisory Authorities’ guidance, decisions and advice regarding the implementation and execution of the BCR. Hilti internally assesses the Supervisory Authorities’ advice and the ability for Hilti to respond to such advice or recommendation based on local factors, internal resources, timeframes for progress to ensure Hilti effectively implements the Supervisory Authorities’ measures. Hilti accepts to be subject to Supervisory Authorities’ inspec- tions and audits with regards to the BCR implementation.'), Document(id='516b2d8b-e1f6-486f-a990-967e95a1367e', metadata={'pdf_name': 'Hilti_BindingCorporateRules.pdf', 'page_number': 12}, page_content='Record keeping: Hilti keeps a record of all DSR including the outcome of DSR and legal grounds for refusal where applicable. f. Response management After DPOs and process experts have assessed and dealt with the DSR, they will proceed with the response to the Data Subject, as follows: Access requests: Hilti provides the Data Subject with the Personal Data it holds about them by considering the initial request (see “content of the DSR”). Hilti will provide the Data Subject their Personal Data in a secure, easy, and readable format.'), Document(id='ee5e71a0-6cc2-43a2-a5b3-84b7eeb4647d', metadata={'pdf_name': 'Hilti_BindingCorporateRules.pdf', 'page_number': 8}, page_content='When Personal Data is directly obtained from Data Subjects, information is  provided at the time when Personal Data are obtained  directly from Data Subjects. When Personal Data are obtained from sources other than the Data Subject, the information is provided: •\\t Within a reasonable period after obtaining the Personal Data, but at the latest within one month, having regard to the specific circumstances in which the Personal Data are processed •\\t If the Personal Data are to be used for communication with the Data Subject, at the latest at the time of the first communication to that Data Subject or •\\t If a disclosure to another recipient is envisaged, at the latest when the Personal Data are first disclosed Hilti ensures that the right of the Data Subjects to be in- formed is respected and provides them with the following information as per the following table:')]\n"
     ]
    }
   ],
   "source": [
    "query = \"What does a Chief Privacy Officer do in Hilti\"\n",
    "retriever = vector_store.as_retriever(search_kwargs={\"k\":20})\n",
    "docs = retriever.invoke(query)\n",
    "print(docs)"
   ]
  },
  {
   "cell_type": "markdown",
   "metadata": {},
   "source": [
    "### Reranking\n",
    "Now we are able to retrieve chunks of texts that are relevant to our query. However, we are not going to pass all of the related chunks to \n",
    "\n",
    "the LLM. Therefore, we need to be able to rank up to 3 or 5 chunks that are the most relevant to the query.\n",
    "\n",
    "In this case, we implement a reranking model \"rerank-v3.5\" from Cohere using their demo API KEY stored in an .env file."
   ]
  },
  {
   "cell_type": "code",
   "execution_count": 3,
   "metadata": {},
   "outputs": [
    {
     "name": "stderr",
     "output_type": "stream",
     "text": [
      "C:\\Users\\Asus\\AppData\\Local\\Temp\\ipykernel_22376\\958648888.py:7: LangChainDeprecationWarning: The class `Cohere` was deprecated in LangChain 0.1.14 and will be removed in 1.0. An updated version of the class exists in the :class:`~langchain-cohere package and should be used instead. To use it run `pip install -U :class:`~langchain-cohere` and import as `from :class:`~langchain_cohere import Cohere``.\n",
      "  llm = Cohere(temperature=0)\n"
     ]
    },
    {
     "name": "stdout",
     "output_type": "stream",
     "text": [
      "[Document(metadata={'pdf_name': 'Hilti_BindingCorporateRules.pdf', 'page_number': 3, 'relevance_score': 0.9527197}, page_content='b.\\t Roles and responsibilities Chief Privacy Officer: Hilti has appointed a Chief Privacy Officer (“CPO”) responsible for monitoring compliance with data protection laws and regulations and easily accessible from each Hilti Entity. CPO is the designated Data Protection Officer for Hilti, and its contact details are communicated to the Liechtenstein Data Protection Authority as per GDPR Article 37. The CPO has been appointed based on his/her expert knowledge in the field of data protection and data privacy, as well as overall years of experience which attest their professional qualities required to fulfill the tasks of a CPO. The required skills are: •\\t Expertise and in-depth understanding of national, EEA, global data protection and privacy laws, regulations and practices •\\t Advanced knowledge of the business sector and Hilti internal organization EXECUTIVE BOARD CHIEF PRIVACY OFFICER GLOBAL DATA PROTECTION REGIONAL DATA PROTECTION OFFICER PROJECT OWNER LOCAL DATA PROTECTION OFFICER LOCAL PROCESS OWNER'), Document(metadata={'page_number': 16, 'pdf_name': 'Hilti_BindingCorporateRules.pdf', 'relevance_score': 0.9291904}, page_content='Chief Privacy Officer (“CPO”): CPO means the Hilti Chief Privacy Officer. The CPO is respon- sible for reviewing and monitoring Hilti’s data protection  compliance and reporting to the highest level of management. Controller: Controller means the natural or legal person, public  authority, agency, or other body which, alone or jointly with others, determines the purposes and means of the  processing of Personal Data. Such Controller can be Hilti HQ, a Hilti Entity, or a Third Party.'), Document(metadata={'page_number': 4, 'pdf_name': 'Hilti_BindingCorporateRules.pdf', 'relevance_score': 0.8727061}, page_content='The CPO operates from Hilti’s Headquarters and reports to the highest management level. The CPO undertakes to fulfill the following tasks: •\\t Regularly or where necessary, informs and advises the Executive Board •\\t Monitors compliance with data protection regulations and internal policies, including to protect Personal Data, assign responsibilities, raise awareness, and ensure the training of staff involved in processing operations and related audits •\\t \\tProvides advice where requested with regards to Data Protection Impact Assessments and monitors their performance •\\t \\tCooperates with the Supervisory Authorities •\\t \\tActs as a contact point for the Supervisory Authorities on any issue relating to processing of Personal Data, including prior consultation where required and to consult where appropriate with regard to any other matter •\\t \\tProvides guidance by evaluating the risks associated with all data processing activities including but not limited to the scope, nature, context, and purposes for the processing •\\t \\tMonitors and annually reports on compliance at a global level to the executive board of directors •\\t \\tEnsures the integration of data protection in overall compliance management, this includes but is not limited to the product and services development process as well as continued process reviews and enhancements •\\t \\tSupervises the Global Team •\\t \\tInforms the Executive Board or highest management level of any question or concern arising during the performance of his/her duties •\\t \\tDecides on or requests audits on an ad hoc basis Global Team: The Global Team (“Global Team”) is com- posed of privacy professionals specializing in legal and technical implementation of data protection matters. The Global Team directly reports to the CPO and is involved at the earliest stage of Hilti operations to assess data protection. The Global Team tasks are the following: •\\t Providing CPO and business lines with legal and technical assessments with regards to data protection •\\t \\tDrafting internal policies and processes •\\t \\tProviding business lines with guidance •\\t \\tConducting DPIA •\\t \\tPromoting data protection by Design and by Default in the whole organization •\\t \\tRegularly reviewing organization’s governance in regard to data protection •\\t \\tProviding regular guidance for regional and local DPOs and monitoring performance at a regional and local level •\\t \\tRaising awareness in the organization •\\t \\tProviding Regional and Local DPOs with training •\\t \\tSupporting global corporate audit teams in the performance of audit program •\\t \\tUpdating the record of processing activities at a global level on behalf of the Controller (Hilti Entity or Hilti HQ) •\\t \\tDrafting and reviewing data processing agreements for global contracts •\\t \\tHandling Data Subject requests including assessment of Data Subject Rights The Global Team works hand-in-hand with the CPO, performs in an independent manner and undertakes strict secrecy and confidentiality during the course of their duties.'), Document(metadata={'page_number': 4, 'pdf_name': 'Hilti_BindingCorporateRules.pdf', 'relevance_score': 0.67988104}, page_content='www.hilti.group 4 •\\t Good understanding of processing activities and operations carried out by Hilti •\\t Integrity and high professional ethics •\\t Understanding of GDPR processes and principles •\\t Outstanding communication skills in order to train and work with various teams and business lines •\\t Ability to guarantee secrecy and high confidentiality during the performance of their duties The role of CPO has been strictly assessed and Hilti ensures the independence of the CPO role which is free from any conflict of interest within Hilti.'), Document(metadata={'pdf_name': 'Hilti_BindingCorporateRules.pdf', 'page_number': 12, 'relevance_score': 0.54187006}, page_content='Record keeping: Hilti keeps a record of all DSR including the outcome of DSR and legal grounds for refusal where applicable. f. Response management After DPOs and process experts have assessed and dealt with the DSR, they will proceed with the response to the Data Subject, as follows: Access requests: Hilti provides the Data Subject with the Personal Data it holds about them by considering the initial request (see “content of the DSR”). Hilti will provide the Data Subject their Personal Data in a secure, easy, and readable format.')]\n"
     ]
    }
   ],
   "source": [
    "from langchain.retrievers.contextual_compression import ContextualCompressionRetriever\n",
    "from langchain_cohere import CohereRerank\n",
    "from langchain_community.llms import Cohere\n",
    "\n",
    "retriever = vector_store.as_retriever(search_kwargs={\"k\":20})\n",
    "\n",
    "llm = Cohere(temperature=0)\n",
    "compressor = CohereRerank(model=\"rerank-v3.5\", top_n=5)\n",
    "compression_retriever = ContextualCompressionRetriever(\n",
    "    base_compressor=compressor, base_retriever=retriever\n",
    ")\n",
    "reranked_docs = compression_retriever.invoke(\n",
    "    \"What does a Chief Privacy Officer do in Hilti\"\n",
    ")\n",
    "\n",
    "print(reranked_docs)"
   ]
  },
  {
   "cell_type": "code",
   "execution_count": 4,
   "metadata": {},
   "outputs": [],
   "source": [
    "# Define helper function to print wrapped text\n",
    "import textwrap\n",
    "\n",
    "def print_wrapped(text, wrap_length=80):\n",
    "    wrapped_text = textwrap.fill(text, wrap_length)\n",
    "    print(wrapped_text)"
   ]
  },
  {
   "cell_type": "code",
   "execution_count": 5,
   "metadata": {},
   "outputs": [
    {
     "name": "stdout",
     "output_type": "stream",
     "text": [
      "----- Document 0 -----\n",
      "Original 0:\n",
      "  PDF Name: Hilti_BindingCorporateRules.pdf\n",
      "  Page Number: 16\n",
      "  Content:\n",
      "Chief Privacy Officer (“CPO”): CPO means the Hilti Chief Privacy Officer. The\n",
      "CPO is respon- sible for reviewing and monitoring Hilti’s data protection\n",
      "compliance and reporting to the highest level of management. Controller:\n",
      "Controller means the natural or legal person, public  authority, agency, or\n",
      "other body which, alone or jointly with others, determines the purposes and\n",
      "means of the  processing of Personal Data. Such Controller can be Hilti HQ, a\n",
      "Hilti Entity, or a Third Party.\n",
      "--------------------------------------------------------------------------------\n",
      "ReRanked 0:\n",
      "  PDF Name: Hilti_BindingCorporateRules.pdf\n",
      "  Page Number: 3\n",
      "  Content:\n",
      "b.       Roles and responsibilities Chief Privacy Officer: Hilti has appointed a\n",
      "Chief Privacy Officer (“CPO”) responsible for monitoring compliance with data\n",
      "protection laws and regulations and easily accessible from each Hilti Entity.\n",
      "CPO is the designated Data Protection Officer for Hilti, and its contact details\n",
      "are communicated to the Liechtenstein Data Protection Authority as per GDPR\n",
      "Article 37. The CPO has been appointed based on his/her expert knowledge in the\n",
      "field of data protection and data privacy, as well as overall years of\n",
      "experience which attest their professional qualities required to fulfill the\n",
      "tasks of a CPO. The required skills are: •         Expertise and in-depth\n",
      "understanding of national, EEA, global data protection and privacy laws,\n",
      "regulations and practices •     Advanced knowledge of the business sector and\n",
      "Hilti internal organization EXECUTIVE BOARD CHIEF PRIVACY OFFICER GLOBAL DATA\n",
      "PROTECTION REGIONAL DATA PROTECTION OFFICER PROJECT OWNER LOCAL DATA PROTECTION\n",
      "OFFICER LOCAL PROCESS OWNER\n",
      "  Relevance Score: 0.9527197\n",
      "================================================================================\n",
      "----- Document 1 -----\n",
      "Original 1:\n",
      "  PDF Name: Hilti_BindingCorporateRules.pdf\n",
      "  Page Number: 3\n",
      "  Content:\n",
      "b.       Roles and responsibilities Chief Privacy Officer: Hilti has appointed a\n",
      "Chief Privacy Officer (“CPO”) responsible for monitoring compliance with data\n",
      "protection laws and regulations and easily accessible from each Hilti Entity.\n",
      "CPO is the designated Data Protection Officer for Hilti, and its contact details\n",
      "are communicated to the Liechtenstein Data Protection Authority as per GDPR\n",
      "Article 37. The CPO has been appointed based on his/her expert knowledge in the\n",
      "field of data protection and data privacy, as well as overall years of\n",
      "experience which attest their professional qualities required to fulfill the\n",
      "tasks of a CPO. The required skills are: •         Expertise and in-depth\n",
      "understanding of national, EEA, global data protection and privacy laws,\n",
      "regulations and practices •     Advanced knowledge of the business sector and\n",
      "Hilti internal organization EXECUTIVE BOARD CHIEF PRIVACY OFFICER GLOBAL DATA\n",
      "PROTECTION REGIONAL DATA PROTECTION OFFICER PROJECT OWNER LOCAL DATA PROTECTION\n",
      "OFFICER LOCAL PROCESS OWNER\n",
      "--------------------------------------------------------------------------------\n",
      "ReRanked 1:\n",
      "  PDF Name: Hilti_BindingCorporateRules.pdf\n",
      "  Page Number: 16\n",
      "  Content:\n",
      "Chief Privacy Officer (“CPO”): CPO means the Hilti Chief Privacy Officer. The\n",
      "CPO is respon- sible for reviewing and monitoring Hilti’s data protection\n",
      "compliance and reporting to the highest level of management. Controller:\n",
      "Controller means the natural or legal person, public  authority, agency, or\n",
      "other body which, alone or jointly with others, determines the purposes and\n",
      "means of the  processing of Personal Data. Such Controller can be Hilti HQ, a\n",
      "Hilti Entity, or a Third Party.\n",
      "  Relevance Score: 0.9291904\n",
      "================================================================================\n",
      "----- Document 2 -----\n",
      "Original 2:\n",
      "  PDF Name: Hilti_BindingCorporateRules.pdf\n",
      "  Page Number: 4\n",
      "  Content:\n",
      "www.hilti.group 4 •      Good understanding of processing activities and\n",
      "operations carried out by Hilti •       Integrity and high professional ethics •\n",
      "Understanding of GDPR processes and principles •        Outstanding\n",
      "communication skills in order to train and work with various teams and business\n",
      "lines •     Ability to guarantee secrecy and high confidentiality during the\n",
      "performance of their duties The role of CPO has been strictly assessed and Hilti\n",
      "ensures the independence of the CPO role which is free from any conflict of\n",
      "interest within Hilti.\n",
      "--------------------------------------------------------------------------------\n",
      "ReRanked 2:\n",
      "  PDF Name: Hilti_BindingCorporateRules.pdf\n",
      "  Page Number: 4\n",
      "  Content:\n",
      "The CPO operates from Hilti’s Headquarters and reports to the highest management\n",
      "level. The CPO undertakes to fulfill the following tasks: •     Regularly or\n",
      "where necessary, informs and advises the Executive Board •         Monitors\n",
      "compliance with data protection regulations and internal policies, including to\n",
      "protect Personal Data, assign responsibilities, raise awareness, and ensure the\n",
      "training of staff involved in processing operations and related audits •\n",
      "Provides advice where requested with regards to Data Protection Impact\n",
      "Assessments and monitors their performance •             Cooperates with the\n",
      "Supervisory Authorities •           Acts as a contact point for the Supervisory\n",
      "Authorities on any issue relating to processing of Personal Data, including\n",
      "prior consultation where required and to consult where appropriate with regard\n",
      "to any other matter •            Provides guidance by evaluating the risks\n",
      "associated with all data processing activities including but not limited to the\n",
      "scope, nature, context, and purposes for the processing •             Monitors\n",
      "and annually reports on compliance at a global level to the executive board of\n",
      "directors •             Ensures the integration of data protection in overall\n",
      "compliance management, this includes but is not limited to the product and\n",
      "services development process as well as continued process reviews and\n",
      "enhancements •           Supervises the Global Team •            Informs the\n",
      "Executive Board or highest management level of any question or concern arising\n",
      "during the performance of his/her duties •           Decides on or requests\n",
      "audits on an ad hoc basis Global Team: The Global Team (“Global Team”) is com-\n",
      "posed of privacy professionals specializing in legal and technical\n",
      "implementation of data protection matters. The Global Team directly reports to\n",
      "the CPO and is involved at the earliest stage of Hilti operations to assess data\n",
      "protection. The Global Team tasks are the following: •  Providing CPO and\n",
      "business lines with legal and technical assessments with regards to data\n",
      "protection •                Drafting internal policies and processes •\n",
      "Providing business lines with guidance •                Conducting DPIA •\n",
      "Promoting data protection by Design and by Default in the whole organization •\n",
      "Regularly reviewing organization’s governance in regard to data protection •\n",
      "Providing regular guidance for regional and local DPOs and monitoring\n",
      "performance at a regional and local level •               Raising awareness in\n",
      "the organization •         Providing Regional and Local DPOs with training •\n",
      "Supporting global corporate audit teams in the performance of audit program •\n",
      "Updating the record of processing activities at a global level on behalf of the\n",
      "Controller (Hilti Entity or Hilti HQ) •         Drafting and reviewing data\n",
      "processing agreements for global contracts •                Handling Data\n",
      "Subject requests including assessment of Data Subject Rights The Global Team\n",
      "works hand-in-hand with the CPO, performs in an independent manner and\n",
      "undertakes strict secrecy and confidentiality during the course of their duties.\n",
      "  Relevance Score: 0.8727061\n",
      "================================================================================\n",
      "----- Document 3 -----\n",
      "Original 3:\n",
      "  PDF Name: Hilti_BindingCorporateRules.pdf\n",
      "  Page Number: 4\n",
      "  Content:\n",
      "The CPO operates from Hilti’s Headquarters and reports to the highest management\n",
      "level. The CPO undertakes to fulfill the following tasks: •     Regularly or\n",
      "where necessary, informs and advises the Executive Board •         Monitors\n",
      "compliance with data protection regulations and internal policies, including to\n",
      "protect Personal Data, assign responsibilities, raise awareness, and ensure the\n",
      "training of staff involved in processing operations and related audits •\n",
      "Provides advice where requested with regards to Data Protection Impact\n",
      "Assessments and monitors their performance •             Cooperates with the\n",
      "Supervisory Authorities •           Acts as a contact point for the Supervisory\n",
      "Authorities on any issue relating to processing of Personal Data, including\n",
      "prior consultation where required and to consult where appropriate with regard\n",
      "to any other matter •            Provides guidance by evaluating the risks\n",
      "associated with all data processing activities including but not limited to the\n",
      "scope, nature, context, and purposes for the processing •             Monitors\n",
      "and annually reports on compliance at a global level to the executive board of\n",
      "directors •             Ensures the integration of data protection in overall\n",
      "compliance management, this includes but is not limited to the product and\n",
      "services development process as well as continued process reviews and\n",
      "enhancements •           Supervises the Global Team •            Informs the\n",
      "Executive Board or highest management level of any question or concern arising\n",
      "during the performance of his/her duties •           Decides on or requests\n",
      "audits on an ad hoc basis Global Team: The Global Team (“Global Team”) is com-\n",
      "posed of privacy professionals specializing in legal and technical\n",
      "implementation of data protection matters. The Global Team directly reports to\n",
      "the CPO and is involved at the earliest stage of Hilti operations to assess data\n",
      "protection. The Global Team tasks are the following: •  Providing CPO and\n",
      "business lines with legal and technical assessments with regards to data\n",
      "protection •                Drafting internal policies and processes •\n",
      "Providing business lines with guidance •                Conducting DPIA •\n",
      "Promoting data protection by Design and by Default in the whole organization •\n",
      "Regularly reviewing organization’s governance in regard to data protection •\n",
      "Providing regular guidance for regional and local DPOs and monitoring\n",
      "performance at a regional and local level •               Raising awareness in\n",
      "the organization •         Providing Regional and Local DPOs with training •\n",
      "Supporting global corporate audit teams in the performance of audit program •\n",
      "Updating the record of processing activities at a global level on behalf of the\n",
      "Controller (Hilti Entity or Hilti HQ) •         Drafting and reviewing data\n",
      "processing agreements for global contracts •                Handling Data\n",
      "Subject requests including assessment of Data Subject Rights The Global Team\n",
      "works hand-in-hand with the CPO, performs in an independent manner and\n",
      "undertakes strict secrecy and confidentiality during the course of their duties.\n",
      "--------------------------------------------------------------------------------\n",
      "ReRanked 3:\n",
      "  PDF Name: Hilti_BindingCorporateRules.pdf\n",
      "  Page Number: 4\n",
      "  Content:\n",
      "www.hilti.group 4 •      Good understanding of processing activities and\n",
      "operations carried out by Hilti •       Integrity and high professional ethics •\n",
      "Understanding of GDPR processes and principles •        Outstanding\n",
      "communication skills in order to train and work with various teams and business\n",
      "lines •     Ability to guarantee secrecy and high confidentiality during the\n",
      "performance of their duties The role of CPO has been strictly assessed and Hilti\n",
      "ensures the independence of the CPO role which is free from any conflict of\n",
      "interest within Hilti.\n",
      "  Relevance Score: 0.67988104\n",
      "================================================================================\n",
      "----- Document 4 -----\n",
      "Original 4:\n",
      "  PDF Name: Hilti_BindingCorporateRules.pdf\n",
      "  Page Number: 3\n",
      "  Content:\n",
      "Hilti employees also have by default an obligation of secrecy which applies to\n",
      "the processing of Personal Data. Hilti applies the highest data protection\n",
      "standards and pro- vides Third-Party beneficiary rights to Data Subjects. These\n",
      "rights are enforceable no matter where Personal Data is pro- cessed by Hilti.\n",
      "Where additional rights can be granted to Data Subjects for example as per\n",
      "national data protection laws and regulations, Hilti undertakes to respond to\n",
      "such right.\n",
      "--------------------------------------------------------------------------------\n",
      "ReRanked 4:\n",
      "  PDF Name: Hilti_BindingCorporateRules.pdf\n",
      "  Page Number: 12\n",
      "  Content:\n",
      "Record keeping: Hilti keeps a record of all DSR including the outcome of DSR and\n",
      "legal grounds for refusal where applicable. f. Response management After DPOs\n",
      "and process experts have assessed and dealt with the DSR, they will proceed with\n",
      "the response to the Data Subject, as follows: Access requests: Hilti provides\n",
      "the Data Subject with the Personal Data it holds about them by considering the\n",
      "initial request (see “content of the DSR”). Hilti will provide the Data Subject\n",
      "their Personal Data in a secure, easy, and readable format.\n",
      "  Relevance Score: 0.54187006\n",
      "================================================================================\n"
     ]
    }
   ],
   "source": [
    "i = 0\n",
    "for doc in reranked_docs:\n",
    "    print(f\"----- Document {i} -----\")\n",
    "    \n",
    "    # Original Document Information\n",
    "    print(f\"Original {i}:\")\n",
    "    print(f\"  PDF Name: {docs[i].metadata.get('pdf_name', 'N/A')}\")\n",
    "    print(f\"  Page Number: {docs[i].metadata.get('page_number', 'N/A')}\")\n",
    "    print(\"  Content:\")\n",
    "    print_wrapped(docs[i].page_content)\n",
    "    print(\"-\" * 80)\n",
    "\n",
    "    # Reranked Document Information\n",
    "    print(f\"ReRanked {i}:\")\n",
    "    print(f\"  PDF Name: {doc.metadata.get('pdf_name', 'N/A')}\")\n",
    "    print(f\"  Page Number: {doc.metadata.get('page_number', 'N/A')}\")\n",
    "    print(\"  Content:\")\n",
    "    print_wrapped(doc.page_content)\n",
    "    print(f\"  Relevance Score: {doc.metadata.get('relevance_score', 'N/A')}\")\n",
    "    print(\"=\" * 80)\n",
    "\n",
    "    i += 1"
   ]
  },
  {
   "cell_type": "markdown",
   "metadata": {},
   "source": [
    "### Using an LLM Model"
   ]
  },
  {
   "cell_type": "code",
   "execution_count": 6,
   "metadata": {},
   "outputs": [
    {
     "name": "stderr",
     "output_type": "stream",
     "text": [
      "C:\\Users\\Asus\\AppData\\Local\\Temp\\ipykernel_22376\\1125800503.py:6: LangChainDeprecationWarning: This class is deprecated. See the following migration guides for replacements based on `chain_type`:\n",
      "stuff: https://python.langchain.com/docs/versions/migrating_chains/stuff_docs_chain\n",
      "map_reduce: https://python.langchain.com/docs/versions/migrating_chains/map_reduce_chain\n",
      "refine: https://python.langchain.com/docs/versions/migrating_chains/refine_chain\n",
      "map_rerank: https://python.langchain.com/docs/versions/migrating_chains/map_rerank_docs_chain\n",
      "\n",
      "See also guides on retrieval and question-answering here: https://python.langchain.com/docs/how_to/#qa-with-rag\n",
      "  chain = load_qa_chain(llm, chain_type=\"stuff\")\n"
     ]
    }
   ],
   "source": [
    "# Requires !pip install langchain_google_genai\n",
    "from langchain.chains.question_answering import load_qa_chain\n",
    "from langchain_google_genai import ChatGoogleGenerativeAI\n",
    "\n",
    "llm = ChatGoogleGenerativeAI(model=\"gemini-2.0-flash\", convert_system_message_to_human=True)\n",
    "chain = load_qa_chain(llm, chain_type=\"stuff\")"
   ]
  },
  {
   "cell_type": "code",
   "execution_count": 7,
   "metadata": {},
   "outputs": [
    {
     "name": "stderr",
     "output_type": "stream",
     "text": [
      "C:\\Users\\Asus\\AppData\\Local\\Temp\\ipykernel_22376\\3420897435.py:4: LangChainDeprecationWarning: The method `Chain.run` was deprecated in langchain 0.1.0 and will be removed in 1.0. Use :meth:`~invoke` instead.\n",
      "  answer = chain.run(input_documents=reranked_docs, question=question)\n",
      "c:\\Users\\Asus\\anaconda3\\Lib\\site-packages\\langchain_google_genai\\chat_models.py:390: UserWarning: Convert_system_message_to_human will be deprecated!\n",
      "  warnings.warn(\"Convert_system_message_to_human will be deprecated!\")\n"
     ]
    },
    {
     "name": "stdout",
     "output_type": "stream",
     "text": [
      "In Hilti, the Chief Privacy Officer (CPO) is responsible for reviewing and\n",
      "monitoring Hilti’s data protection compliance and reporting to the highest level\n",
      "of management. They monitor compliance with data protection regulations and\n",
      "internal policies, provide advice regarding Data Protection Impact Assessments,\n",
      "cooperate with Supervisory Authorities, act as a contact point for Supervisory\n",
      "Authorities, provide guidance by evaluating risks associated with data\n",
      "processing activities, monitor and annually report on compliance at a global\n",
      "level, ensure the integration of data protection in overall compliance\n",
      "management, supervise the Global Team, inform the Executive Board of any\n",
      "concerns, and decide on or request audits. The CPO also regularly informs and\n",
      "advises the Executive Board.\n"
     ]
    }
   ],
   "source": [
    "question = \"What does a Chief Privacy Officer do in Hilti\"\n",
    "\n",
    "reranked_docs = compression_retriever.invoke(question)\n",
    "answer = chain.run(input_documents=reranked_docs, question=question)\n",
    "print_wrapped(answer)"
   ]
  },
  {
   "cell_type": "markdown",
   "metadata": {},
   "source": [
    "### Augmenting our prompt with context items\n",
    "\n",
    "What we'd like to do with augmentation is take the results from our search for relevant resources and put them into the prompt that we pass to our LLM.\n",
    "\n",
    "> **Note:** The process of augmenting or changing a prompt to an LLM is known as prompt engineering. And the best way to do it is an active area of research. For a comprehensive guide on different prompt engineering techniques, I'd recommend the Prompt Engineering Guide ([promptingguide.ai](https://www.promptingguide.ai/)), [Brex's Prompt Engineering Guide](https://github.com/brexhq/prompt-engineering) and the paper [Prompt Design and Engineering: Introduction and Advanced Models](https://arxiv.org/abs/2401.14423)."
   ]
  },
  {
   "cell_type": "code",
   "execution_count": 28,
   "metadata": {},
   "outputs": [],
   "source": [
    "from langchain_google_genai import ChatGoogleGenerativeAI\n",
    "from langchain.prompts import PromptTemplate\n",
    "from langchain.schema import StrOutputParser\n",
    "from langchain.schema.runnable import RunnablePassthrough\n",
    "\n",
    "def query_llm_with_references(message: str, return_references: bool = False):\n",
    "    \"\"\"\n",
    "    Queries the LLM with a message and optionally returns the source documents.\n",
    "\n",
    "    Args:\n",
    "        message: The query message.\n",
    "        reranked_docs: A list of relevant documents retrieved by the retriever.\n",
    "        return_references: A boolean indicating whether to return the source documents.\n",
    "\n",
    "    Returns:\n",
    "        If return_references is False: The answer from the LLM (str).\n",
    "        If return_references is True: A tuple containing the answer (str) and the source documents (list).\n",
    "    \"\"\"\n",
    "    reranked_docs = compression_retriever.invoke(message)\n",
    "    llm = ChatGoogleGenerativeAI(model=\"gemini-2.0-flash\", convert_system_message_to_human=True)\n",
    "\n",
    "    # Prompt to instruct the LLM to cite sources\n",
    "    prompt_template = \"\"\"Answer the question in detail based on the context provided.\n",
    "    Cite the references you used to support your answer using the format (Reference [index]),\n",
    "    where [index] corresponds to the order of the reference in the provided context (starting from 1).\n",
    "    If the context does not provide the answer, just say \"The knowledge base does not have answers to the following question\".\n",
    "\n",
    "    Context:\n",
    "    {context}\n",
    "\n",
    "    Question: {question}\"\"\"\n",
    "    prompt = PromptTemplate.from_template(prompt_template)\n",
    "\n",
    "    # Format the context with indices\n",
    "    indexed_context = \"\\n\\n\".join(\n",
    "        f\"--- Reference {i+1} ---\\n{doc.page_content}\" for i, doc in enumerate(reranked_docs)\n",
    "    )\n",
    "\n",
    "    # Create the chain\n",
    "    chain = (\n",
    "        {\"context\": lambda x: x, \"question\": RunnablePassthrough()}\n",
    "        | prompt\n",
    "        | llm\n",
    "        | StrOutputParser()\n",
    "    )\n",
    "\n",
    "    # Prepare the input for the prompt\n",
    "    prompt_input = {\n",
    "        \"context\": indexed_context,\n",
    "        \"question\": message\n",
    "    }\n",
    "\n",
    "    # Print the generated prompt for debugging\n",
    "    print(\"\\n--- Generated Prompt for LLM ---\")\n",
    "    print(prompt.format(**prompt_input))\n",
    "    print(\"--- End of Prompt ---\")\n",
    "\n",
    "    answer = chain.invoke(indexed_context, {\"question\": message})\n",
    "\n",
    "    if return_references:\n",
    "        context = \"\\n\\n## References:\\n\" + \"\\n\".join([f\"\"\"{index+1}. src: http://localhost:3000/pdfs/{doc.metadata.get('pdf_name', 'N/A')}#page={doc.metadata.get('page_number','N/A')}.\n",
    "Document: **{doc.metadata.get('pdf_name','N/A')}**.\n",
    "PageNumber: **{doc.metadata.get('page_number','N/A')}**.\n",
    "> \"{doc.page_content}\"\n",
    "\n",
    "*****\n",
    "\n",
    "\"\"\"     for index, doc in enumerate(reranked_docs)])\n",
    "        return answer + context\n",
    "    else:\n",
    "        return answer"
   ]
  },
  {
   "cell_type": "code",
   "execution_count": 15,
   "metadata": {},
   "outputs": [
    {
     "name": "stdout",
     "output_type": "stream",
     "text": [
      "\n",
      "--- Generated Prompt for LLM ---\n",
      "Answer the question based on the context provided.\n",
      "    Cite the references you used to support your answer using the format (Reference [index]),\n",
      "    where [index] corresponds to the order of the document in the provided context (starting from 1).\n",
      "    If the context does not provide the answer, just say \"The knowledge base does not have answers to the following question\".\n",
      "\n",
      "    Context:\n",
      "    --- Document 1 ---\n",
      "b.\t Roles and responsibilities Chief Privacy Officer: Hilti has appointed a Chief Privacy Officer (“CPO”) responsible for monitoring compliance with data protection laws and regulations and easily accessible from each Hilti Entity. CPO is the designated Data Protection Officer for Hilti, and its contact details are communicated to the Liechtenstein Data Protection Authority as per GDPR Article 37. The CPO has been appointed based on his/her expert knowledge in the field of data protection and data privacy, as well as overall years of experience which attest their professional qualities required to fulfill the tasks of a CPO. The required skills are: •\t Expertise and in-depth understanding of national, EEA, global data protection and privacy laws, regulations and practices •\t Advanced knowledge of the business sector and Hilti internal organization EXECUTIVE BOARD CHIEF PRIVACY OFFICER GLOBAL DATA PROTECTION REGIONAL DATA PROTECTION OFFICER PROJECT OWNER LOCAL DATA PROTECTION OFFICER LOCAL PROCESS OWNER\n",
      "\n",
      "--- Document 2 ---\n",
      "Chief Privacy Officer (“CPO”): CPO means the Hilti Chief Privacy Officer. The CPO is respon- sible for reviewing and monitoring Hilti’s data protection  compliance and reporting to the highest level of management. Controller: Controller means the natural or legal person, public  authority, agency, or other body which, alone or jointly with others, determines the purposes and means of the  processing of Personal Data. Such Controller can be Hilti HQ, a Hilti Entity, or a Third Party.\n",
      "\n",
      "--- Document 3 ---\n",
      "The CPO operates from Hilti’s Headquarters and reports to the highest management level. The CPO undertakes to fulfill the following tasks: •\t Regularly or where necessary, informs and advises the Executive Board •\t Monitors compliance with data protection regulations and internal policies, including to protect Personal Data, assign responsibilities, raise awareness, and ensure the training of staff involved in processing operations and related audits •\t \tProvides advice where requested with regards to Data Protection Impact Assessments and monitors their performance •\t \tCooperates with the Supervisory Authorities •\t \tActs as a contact point for the Supervisory Authorities on any issue relating to processing of Personal Data, including prior consultation where required and to consult where appropriate with regard to any other matter •\t \tProvides guidance by evaluating the risks associated with all data processing activities including but not limited to the scope, nature, context, and purposes for the processing •\t \tMonitors and annually reports on compliance at a global level to the executive board of directors •\t \tEnsures the integration of data protection in overall compliance management, this includes but is not limited to the product and services development process as well as continued process reviews and enhancements •\t \tSupervises the Global Team •\t \tInforms the Executive Board or highest management level of any question or concern arising during the performance of his/her duties •\t \tDecides on or requests audits on an ad hoc basis Global Team: The Global Team (“Global Team”) is com- posed of privacy professionals specializing in legal and technical implementation of data protection matters. The Global Team directly reports to the CPO and is involved at the earliest stage of Hilti operations to assess data protection. The Global Team tasks are the following: •\t Providing CPO and business lines with legal and technical assessments with regards to data protection •\t \tDrafting internal policies and processes •\t \tProviding business lines with guidance •\t \tConducting DPIA •\t \tPromoting data protection by Design and by Default in the whole organization •\t \tRegularly reviewing organization’s governance in regard to data protection •\t \tProviding regular guidance for regional and local DPOs and monitoring performance at a regional and local level •\t \tRaising awareness in the organization •\t \tProviding Regional and Local DPOs with training •\t \tSupporting global corporate audit teams in the performance of audit program •\t \tUpdating the record of processing activities at a global level on behalf of the Controller (Hilti Entity or Hilti HQ) •\t \tDrafting and reviewing data processing agreements for global contracts •\t \tHandling Data Subject requests including assessment of Data Subject Rights The Global Team works hand-in-hand with the CPO, performs in an independent manner and undertakes strict secrecy and confidentiality during the course of their duties.\n",
      "\n",
      "--- Document 4 ---\n",
      "DATA PROTECTION OFFICER a.\t Purpose Data Protection Officers (“DPO’s”) are a key role in the data protection accountability-based framework. Hilti has ap- pointed a network of DPOs to ensure the implementation of compliance and internal privacy policies throughout the whole organization.\n",
      "\n",
      "--- Document 5 ---\n",
      "www.hilti.group 4 •\t Good understanding of processing activities and operations carried out by Hilti •\t Integrity and high professional ethics •\t Understanding of GDPR processes and principles •\t Outstanding communication skills in order to train and work with various teams and business lines •\t Ability to guarantee secrecy and high confidentiality during the performance of their duties The role of CPO has been strictly assessed and Hilti ensures the independence of the CPO role which is free from any conflict of interest within Hilti.\n",
      "\n",
      "    Question: What does a Chief Privacy Officer do in Hilti?\n",
      "--- End of Prompt ---\n"
     ]
    },
    {
     "name": "stderr",
     "output_type": "stream",
     "text": [
      "c:\\Users\\Asus\\anaconda3\\Lib\\site-packages\\langchain_google_genai\\chat_models.py:390: UserWarning: Convert_system_message_to_human will be deprecated!\n",
      "  warnings.warn(\"Convert_system_message_to_human will be deprecated!\")\n"
     ]
    },
    {
     "name": "stdout",
     "output_type": "stream",
     "text": [
      "\n",
      "Answer:\n",
      "The CPO is responsible for reviewing and monitoring Hilti’s data protection\n",
      "compliance and reporting to the highest level of management (Reference [2]). The\n",
      "CPO also monitors compliance with data protection regulations and internal\n",
      "policies, assigns responsibilities, raises awareness, ensures staff training,\n",
      "advises on Data Protection Impact Assessments, cooperates with Supervisory\n",
      "Authorities, acts as a contact point for Supervisory Authorities, provides\n",
      "guidance by evaluating risks, monitors and annually reports on compliance,\n",
      "ensures data protection integration, supervises the Global Team, informs the\n",
      "Executive Board, and decides on or requests audits (Reference [3]).  ##\n",
      "References: 1. src:\n",
      "http://localhost:3000/pdfs/Hilti_BindingCorporateRules.pdf#page=3. PageNumber:\n",
      "**3**. > \"b.    Roles and responsibilities Chief Privacy Officer: Hilti has\n",
      "appointed a Chief Privacy Officer (“CPO”) responsible for monitoring compliance\n",
      "with data protection laws and regulations and easily acc...\" # Displaying first\n",
      "200 characters of content  *****   2. src:\n",
      "http://localhost:3000/pdfs/Hilti_BindingCorporateRules.pdf#page=16. PageNumber:\n",
      "**16**. > \"Chief Privacy Officer (“CPO”): CPO means the Hilti Chief Privacy\n",
      "Officer. The CPO is respon- sible for reviewing and monitoring Hilti’s data\n",
      "protection  compliance and reporting to the highest level o...\" # Displaying\n",
      "first 200 characters of content  *****   3. src:\n",
      "http://localhost:3000/pdfs/Hilti_BindingCorporateRules.pdf#page=4. PageNumber:\n",
      "**4**. > \"The CPO operates from Hilti’s Headquarters and reports to the highest\n",
      "management level. The CPO undertakes to fulfill the following tasks: •\n",
      "Regularly or where necessary, informs and advises the Exec...\" # Displaying\n",
      "first 200 characters of content  *****   4. src:\n",
      "http://localhost:3000/pdfs/Hilti_BindingCorporateRules.pdf#page=3. PageNumber:\n",
      "**3**. > \"DATA PROTECTION OFFICER a.    Purpose Data Protection Officers\n",
      "(“DPO’s”) are a key role in the data protection accountability-based framework.\n",
      "Hilti has ap- pointed a network of DPOs to ensure the imple...\" # Displaying\n",
      "first 200 characters of content  *****   5. src:\n",
      "http://localhost:3000/pdfs/Hilti_BindingCorporateRules.pdf#page=4. PageNumber:\n",
      "**4**. > \"www.hilti.group 4 •   Good understanding of processing activities and\n",
      "operations carried out by Hilti •       Integrity and high professional ethics •\n",
      "Understanding of GDPR processes and principles •        Outs...\" # Displaying\n",
      "first 200 characters of content  *****\n"
     ]
    }
   ],
   "source": [
    "# Test Usage:\n",
    "question = \"What does a Chief Privacy Officer do in Hilti?\"\n",
    "\n",
    "# Get the answer with references\n",
    "answer_with_references = query_llm_with_references(question, return_references=True)\n",
    "print(\"\\nAnswer:\")\n",
    "print_wrapped(answer_with_references)\n"
   ]
  },
  {
   "cell_type": "markdown",
   "metadata": {
    "id": "e14TK6Nfl07B"
   },
   "source": [
    "RAG workflow complete!\n",
    "\n",
    "We have successfully augmented the prompt to include relevant chunks of text as context to be passed on to the LLM"
   ]
  },
  {
   "cell_type": "markdown",
   "metadata": {},
   "source": [
    "# 3. Hosting in Gradio"
   ]
  },
  {
   "cell_type": "code",
   "execution_count": 19,
   "metadata": {},
   "outputs": [
    {
     "data": {
      "text/plain": [
       "'en_US.UTF-8'"
      ]
     },
     "execution_count": 19,
     "metadata": {},
     "output_type": "execute_result"
    }
   ],
   "source": [
    "import locale\n",
    "locale.getpreferredencoding = lambda: \"UTF-8\"\n",
    "locale.setlocale(locale.LC_ALL, 'en_US.UTF-8')\n"
   ]
  },
  {
   "cell_type": "code",
   "execution_count": 30,
   "metadata": {},
   "outputs": [
    {
     "name": "stderr",
     "output_type": "stream",
     "text": [
      "c:\\Users\\Asus\\anaconda3\\Lib\\site-packages\\gradio\\chat_interface.py:338: UserWarning: The 'tuples' format for chatbot messages is deprecated and will be removed in a future version of Gradio. Please set type='messages' instead, which uses openai-style 'role' and 'content' keys.\n",
      "  self.chatbot = Chatbot(\n"
     ]
    },
    {
     "name": "stdout",
     "output_type": "stream",
     "text": [
      "* Running on local URL:  http://127.0.0.1:7860\n",
      "* Running on public URL: https://24b8739f0b37683091.gradio.live\n",
      "\n",
      "This share link expires in 1 week. For free permanent hosting and GPU upgrades, run `gradio deploy` from the terminal in the working directory to deploy to Hugging Face Spaces (https://huggingface.co/spaces)\n"
     ]
    },
    {
     "data": {
      "text/html": [
       "<div><iframe src=\"https://24b8739f0b37683091.gradio.live\" width=\"100%\" height=\"500\" allow=\"autoplay; camera; microphone; clipboard-read; clipboard-write;\" frameborder=\"0\" allowfullscreen></iframe></div>"
      ],
      "text/plain": [
       "<IPython.core.display.HTML object>"
      ]
     },
     "metadata": {},
     "output_type": "display_data"
    },
    {
     "data": {
      "text/plain": []
     },
     "execution_count": 30,
     "metadata": {},
     "output_type": "execute_result"
    },
    {
     "name": "stdout",
     "output_type": "stream",
     "text": [
      "Message received: What is a CRM system\n",
      "\n",
      "--- Generated Prompt for LLM ---\n",
      "Answer the question in detail based on the context provided.\n",
      "    Cite the references you used to support your answer using the format (Reference [index]),\n",
      "    where [index] corresponds to the order of the reference in the provided context (starting from 1).\n",
      "    If the context does not provide the answer, just say \"The knowledge base does not have answers to the following question\".\n",
      "\n",
      "    Context:\n",
      "    --- Reference 1 ---\n",
      "When it comes to development, we continue to focus on integrated solutions that increasingly combine hardware, soft- ware and services which support our customers in their daily applications and core processes. Additionally, these solutions almost always contain digital elements where data is used as a basis for decision-making, optimi- zation, documentation or continuous learning. A central theme of our digital transformation is the use of available customer data to create a personal- ized, relevant customer approach. This transformation includes the in- troduction of a new CRM system and involves a major training effort for our approximately 18,000 sales and mar- keting employees.\n",
      "\n",
      "--- Reference 2 ---\n",
      "Besides digitalization of customer-related processes, the Group also drove for- ward the digitalization of its corporate processes, such as a new people ap- proach with an underlying HCM suite, and an accelerated rollout of a sales process with a new CRM system.\n",
      "\n",
      "--- Reference 3 ---\n",
      "This is most clearly visible in the accelerated rollout of our new CRM system and the switch to pure- ly digital training for our 18,000 sales and marketing employees.\n",
      "\n",
      "--- Reference 4 ---\n",
      "Operational Excellence Direct  Customer Relationship High-Performing Global Team Product and Service Differentiation We are investing in continuous innovation to provide our customers products, systems, software and services that are world-class. 2020 Hilti Company Report 12–13\n",
      "\n",
      "--- Reference 5 ---\n",
      "Other “self-service” methods: Digital platform users are able to rectify or delete their Personal Data and manage their communication preferences directly through their Pref- erence Center.\n",
      "\n",
      "    Question: What is a CRM system\n",
      "--- End of Prompt ---\n"
     ]
    },
    {
     "name": "stderr",
     "output_type": "stream",
     "text": [
      "c:\\Users\\Asus\\anaconda3\\Lib\\site-packages\\langchain_google_genai\\chat_models.py:390: UserWarning: Convert_system_message_to_human will be deprecated!\n",
      "  warnings.warn(\"Convert_system_message_to_human will be deprecated!\")\n"
     ]
    }
   ],
   "source": [
    "import gradio as gr\n",
    "\n",
    "def question(message, history, return_references):\n",
    "    print(f\"Message received: {message}\")\n",
    "    if message is None:\n",
    "        print(\"Warning: Received NoneType for message.\")\n",
    "        return \"Sorry, I didn't receive your message.\"\n",
    "\n",
    "    answer = query_llm_with_references(\n",
    "        message=message,\n",
    "        return_references=return_references\n",
    "    )\n",
    "    return answer\n",
    "\n",
    "demo = gr.ChatInterface(\n",
    "    question,\n",
    "    additional_inputs=[\n",
    "        gr.Checkbox(label=\"Return References\", interactive=True)\n",
    "    ]\n",
    ")\n",
    "demo.launch(share=True)"
   ]
  },
  {
   "cell_type": "code",
   "execution_count": 29,
   "metadata": {},
   "outputs": [
    {
     "name": "stdout",
     "output_type": "stream",
     "text": [
      "Closing server running on port: 7860\n"
     ]
    }
   ],
   "source": [
    "demo.close()"
   ]
  }
 ],
 "metadata": {
  "colab": {
   "provenance": []
  },
  "kernelspec": {
   "display_name": "base",
   "language": "python",
   "name": "python3"
  },
  "language_info": {
   "codemirror_mode": {
    "name": "ipython",
    "version": 3
   },
   "file_extension": ".py",
   "mimetype": "text/x-python",
   "name": "python",
   "nbconvert_exporter": "python",
   "pygments_lexer": "ipython3",
   "version": "3.12.7"
  }
 },
 "nbformat": 4,
 "nbformat_minor": 0
}
